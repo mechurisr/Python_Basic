{
 "cells": [
  {
   "cell_type": "code",
   "execution_count": 41,
   "metadata": {},
   "outputs": [],
   "source": [
    "import urllib.request\n",
    "from bs4 import BeautifulSoup\n",
    "import pandas as pd\n",
    "import requests"
   ]
  },
  {
   "cell_type": "code",
   "execution_count": 47,
   "metadata": {},
   "outputs": [],
   "source": [
    "ownerURL = \"http://apis.data.go.kr/B551982/openApiOwnerSal/openXmlOwnerSal?serviceKey=LAnUp4S5RY6G2yoEILzx7Vn%2F5pvZwaxRs6SqRg6cg%2B58FRRR1%2B3l5Rpq5SwOQ65sHDEaQVyYJM5UQU9JNpPx7g%3D%3D&type=xml&numOfRows=10&pageNo=1&ac_year=2016\"\n",
    "res = urllib.request.urlopen(ownerURL)\n",
    "ownerSoup = BeautifulSoup(res, \"html.parser\")"
   ]
  },
  {
   "cell_type": "code",
   "execution_count": 48,
   "metadata": {},
   "outputs": [
    {
     "name": "stdout",
     "output_type": "stream",
     "text": [
      "<?xml version=\"1.0\" encoding=\"UTF-8\"?>\n",
      "<response>\n",
      "<remsg>\n",
      "</remsg></response>\n"
     ]
    }
   ],
   "source": [
    "print(ownerSoup)"
   ]
  },
  {
   "cell_type": "code",
   "execution_count": 49,
   "metadata": {},
   "outputs": [
    {
     "data": {
      "text/plain": [
       "<?xml version=\"1.0\" encoding=\"UTF-8\"?>\n",
       "<response>\n",
       "<remsg>\n",
       "</remsg></response>"
      ]
     },
     "execution_count": 49,
     "metadata": {},
     "output_type": "execute_result"
    }
   ],
   "source": [
    "ewageSoup"
   ]
  },
  {
   "cell_type": "code",
   "execution_count": 50,
   "metadata": {},
   "outputs": [
    {
     "name": "stdout",
     "output_type": "stream",
     "text": [
      "<?xml version=\"1.0\" encoding=\"UTF-8\"?>\n",
      "<response>\n",
      " <remsg>\n",
      " </remsg>\n",
      "</response>\n"
     ]
    }
   ],
   "source": [
    "print(ewageSoup.prettify())"
   ]
  },
  {
   "cell_type": "code",
   "execution_count": 51,
   "metadata": {},
   "outputs": [
    {
     "name": "stdout",
     "output_type": "stream",
     "text": [
      "<openapi_serviceresponse>\n",
      "<cmmmsgheader>\n",
      "<errmsg>SERVICE ERROR</errmsg>\n",
      "<returnauthmsg>SERVICE_KEY_IS_NOT_REGISTERED_ERROR</returnauthmsg>\n",
      "<returnreasoncode>30</returnreasoncode>\n",
      "</cmmmsgheader>\n",
      "</openapi_serviceresponse>\n"
     ]
    }
   ],
   "source": [
    "ownerURL = \"http://apis.data.go.kr/B551982/openApiOwnerSal/openXmlOwnerSal?serviceKey=vGmcCEppOgKU7A85T2iAM8VepTeNKQ%2B174k3pYOA4LMu099J%2F4CPtZFNOwYZS5kE9ajo7eEUoIYYyztLU75ixw%3D%3D&type=xml&numOfRows=10&pageNo=1&ac_year=2016\"\n",
    "res = urllib.request.urlopen(ownerURL)\n",
    "ownerSoup = BeautifulSoup(res, \"html.parser\")\n",
    "print(ownerSoup)"
   ]
  },
  {
   "cell_type": "code",
   "execution_count": null,
   "metadata": {},
   "outputs": [],
   "source": []
  },
  {
   "cell_type": "code",
   "execution_count": null,
   "metadata": {},
   "outputs": [],
   "source": []
  },
  {
   "cell_type": "code",
   "execution_count": null,
   "metadata": {},
   "outputs": [],
   "source": []
  },
  {
   "cell_type": "code",
   "execution_count": null,
   "metadata": {},
   "outputs": [],
   "source": []
  },
  {
   "cell_type": "code",
   "execution_count": null,
   "metadata": {},
   "outputs": [],
   "source": []
  },
  {
   "cell_type": "code",
   "execution_count": null,
   "metadata": {},
   "outputs": [],
   "source": []
  },
  {
   "cell_type": "code",
   "execution_count": null,
   "metadata": {},
   "outputs": [],
   "source": []
  },
  {
   "cell_type": "code",
   "execution_count": null,
   "metadata": {},
   "outputs": [],
   "source": []
  },
  {
   "cell_type": "code",
   "execution_count": null,
   "metadata": {},
   "outputs": [],
   "source": []
  }
 ],
 "metadata": {
  "kernelspec": {
   "display_name": "Python 3",
   "language": "python",
   "name": "python3"
  },
  "language_info": {
   "codemirror_mode": {
    "name": "ipython",
    "version": 3
   },
   "file_extension": ".py",
   "mimetype": "text/x-python",
   "name": "python",
   "nbconvert_exporter": "python",
   "pygments_lexer": "ipython3",
   "version": "3.7.6"
  }
 },
 "nbformat": 4,
 "nbformat_minor": 4
}
