{
 "cells": [
  {
   "cell_type": "code",
   "execution_count": 3,
   "metadata": {},
   "outputs": [],
   "source": [
    "#더하기 함수\n",
    "def sum2(a,b):\n",
    "    result = a + b\n",
    "    return(result)"
   ]
  },
  {
   "cell_type": "code",
   "execution_count": 4,
   "metadata": {},
   "outputs": [
    {
     "name": "stdout",
     "output_type": "stream",
     "text": [
      "40\n",
      "40\n"
     ]
    }
   ],
   "source": [
    "print(sum2(10, 30))\n",
    "print(10 + 30)"
   ]
  },
  {
   "cell_type": "code",
   "execution_count": 7,
   "metadata": {},
   "outputs": [],
   "source": [
    "#곱하는 함수\n",
    "def multiple2(a,b):\n",
    "    result = a * b\n",
    "    return(result)"
   ]
  },
  {
   "cell_type": "code",
   "execution_count": 8,
   "metadata": {},
   "outputs": [
    {
     "name": "stdout",
     "output_type": "stream",
     "text": [
      "200\n"
     ]
    }
   ],
   "source": [
    "print(multiple2(10, 20))"
   ]
  },
  {
   "cell_type": "code",
   "execution_count": 9,
   "metadata": {},
   "outputs": [
    {
     "name": "stdout",
     "output_type": "stream",
     "text": [
      "21\n",
      "550\n"
     ]
    }
   ],
   "source": [
    "#참고) args :\n",
    "def sumrandom(*args):\n",
    "    result = 0\n",
    "    for i in args :\n",
    "        result = result + i\n",
    "    return result\n",
    "\n",
    "print(sumrandom(1,2,3,4,5,6))\n",
    "print(sumrandom(10,20,30,40,50,60,70,80,90,100))"
   ]
  },
  {
   "cell_type": "code",
   "execution_count": 12,
   "metadata": {},
   "outputs": [
    {
     "name": "stdout",
     "output_type": "stream",
     "text": [
      "150\n",
      "5\n",
      "No Function!!\n"
     ]
    }
   ],
   "source": [
    "def myfunction(func,*args):\n",
    "    if func==\"sum\":\n",
    "        result = 0\n",
    "        for i in args:\n",
    "            result = result + i\n",
    "        return result\n",
    "    elif func ==\"count\":\n",
    "        return len(args)\n",
    "    else:\n",
    "        return(\"No Function!!\")\n",
    "    \n",
    "a = myfunction(\"sum\",10,20,30,40,50)\n",
    "b = myfunction(\"count\",10,20,30,40,50)\n",
    "c = myfunction(\"nono\",10,20,30,40,50)\n",
    "print(a)\n",
    "print(b)\n",
    "print(c)"
   ]
  },
  {
   "cell_type": "code",
   "execution_count": 13,
   "metadata": {},
   "outputs": [
    {
     "name": "stdout",
     "output_type": "stream",
     "text": [
      "(40, 300, 0.3333333333333333, 50)\n"
     ]
    }
   ],
   "source": [
    "def multifunc(a,b):\n",
    "    return a+b, a*b, a/b, a+b+10\n",
    "print(multifunc(10,30))"
   ]
  },
  {
   "cell_type": "code",
   "execution_count": 14,
   "metadata": {},
   "outputs": [
    {
     "data": {
      "text/plain": [
       "30"
      ]
     },
     "execution_count": 14,
     "metadata": {},
     "output_type": "execute_result"
    }
   ],
   "source": [
    "#a+b의 기존의 함수형식으로 정의하여 사용\n",
    "def sum2(a,b):\n",
    "    return a+b\n",
    "sum2(10,20)"
   ]
  },
  {
   "cell_type": "code",
   "execution_count": 15,
   "metadata": {},
   "outputs": [
    {
     "data": {
      "text/plain": [
       "300"
      ]
     },
     "execution_count": 15,
     "metadata": {},
     "output_type": "execute_result"
    }
   ],
   "source": [
    "sum2(100,200)"
   ]
  },
  {
   "cell_type": "code",
   "execution_count": 17,
   "metadata": {},
   "outputs": [
    {
     "data": {
      "text/plain": [
       "30"
      ]
     },
     "execution_count": 17,
     "metadata": {},
     "output_type": "execute_result"
    }
   ],
   "source": [
    "#lamda 형식으로 지정하여 사용하고, 한 번 사용하였기에,\n",
    "#다시 사용하기 위해서는 동일한 코드를 다시 작성해야 함.\n",
    "(lambda x,y: x+y)(10,20)"
   ]
  },
  {
   "cell_type": "code",
   "execution_count": null,
   "metadata": {},
   "outputs": [],
   "source": [
    "def fff(var1, *varsss):\n",
    "    if var1 == \"sel1\":\n",
    "        +(temp1=0), *(temp2=1)\n",
    "        #varss의 모든 값들 돌아가면서...\n",
    "        for i in varsss:\n",
    "            temp1 = temp1 + i\n",
    "            temp2 = temp2 * i\n",
    "        return temp1, temp2\n",
    "    elif var1 ==\"sel2\"\n",
    "        tempNum = len(varsss)\n",
    "        return varsss[0], varss[tempNum-1]\n",
    "        \n",
    "        elif var1 ==\"sel2\":\n",
    "            "
   ]
  }
 ],
 "metadata": {
  "kernelspec": {
   "display_name": "Python 3",
   "language": "python",
   "name": "python3"
  },
  "language_info": {
   "codemirror_mode": {
    "name": "ipython",
    "version": 3
   },
   "file_extension": ".py",
   "mimetype": "text/x-python",
   "name": "python",
   "nbconvert_exporter": "python",
   "pygments_lexer": "ipython3",
   "version": "3.7.6"
  }
 },
 "nbformat": 4,
 "nbformat_minor": 4
}
