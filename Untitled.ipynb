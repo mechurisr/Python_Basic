{
 "cells": [
  {
   "cell_type": "code",
   "execution_count": 2,
   "metadata": {},
   "outputs": [],
   "source": [
    "import urllib.request\n",
    "from bs4 import BeautifulSoup\n",
    "import numpy as np\n",
    "import pandas as pd\n",
    "import requests\n",
    "import matplotlib.pyplot as plt\n",
    "import seaborn as sns\n",
    "sns.set()"
   ]
  },
  {
   "cell_type": "code",
   "execution_count": 3,
   "metadata": {},
   "outputs": [
    {
     "name": "stdout",
     "output_type": "stream",
     "text": [
      "<response>\n",
      " <header>\n",
      "  <description>\n",
      "   소상공인시장진흥공단 주요상권\n",
      "  </description>\n",
      "  <columns>\n",
      "   상권번호,상권명,시도코드,시도명,시군구코드,시군구명,상권면적,좌표개수,좌표값,데이터기준일자\n",
      "  </columns>\n",
      "  <resultcode>\n",
      "   00\n",
      "  </resultcode>\n",
      "  <resultmsg>\n",
      "   NORMAL SERVICE\n",
      "  </resultmsg>\n",
      " </header>\n",
      " <body>\n",
      "  <items>\n",
      "   <item>\n",
      "    <trarno>\n",
      "     573\n",
      "    </trarno>\n",
      "    <maintrarnm>\n",
      "     부산 금정구 구서동역\n",
      "    </maintrarnm>\n",
      "    <ctprvncd>\n",
      "     26\n",
      "    </ctprvncd>\n",
      "    <ctprvnnm>\n",
      "     부산광역시\n",
      "    </ctprvnnm>\n",
      "    <signgucd>\n",
      "     26410\n",
      "    </signgucd>\n",
      "    <signgunm>\n",
      "     금정구\n",
      "    </signgunm>\n",
      "    <trararea>\n",
      "     66080.5\n",
      "    </trararea>\n",
      "    <coordnum>\n",
      "     16\n",
      "    </coordnum>\n",
      "    <coords>\n",
      "     POLYGON ((129.09092 35.248544, 129.090527 35.248755, 129.089265 35.248054, 129.089212 35.247334, 129.088914 35.247291, 129.088755 35.24522, 129.089828 35.244913, 129.08994 35.246723, 129.091246 35.246667, 129.091377 35.246602, 129.091466 35.247503, 129.091906 35.247535, 129.092248 35.247604, 129.091985 35.248508, 129.091776 35.248483, 129.09092 35.248544))\n",
      "    </coords>\n",
      "    <stdrdt>\n",
      "     2015-12-17\n",
      "    </stdrdt>\n",
      "   </item>\n",
      "  </items>\n",
      " </body>\n",
      "</response>\n",
      "\n"
     ]
    }
   ],
   "source": [
    "wageURL = \"http://apis.data.go.kr/B553077/api/open/sdsc/storeZoneOne?key=573&ServiceKey=BClVDLLEomkCLzflApWLzmRn%2B3B7krZSu7fVnKiaspmbTbmNm4kxOxh3LUeoRc136A5KnVXgV4H%2FJSqAg7EULg%3D%3D \"\n",
    "wageURL\n",
    "res = urllib.request.urlopen(wageURL)\n",
    "wageSoup = BeautifulSoup(res, \"html.parser\")\n",
    "print(wageSoup.prettify())"
   ]
  },
  {
   "cell_type": "code",
   "execution_count": null,
   "metadata": {},
   "outputs": [],
   "source": []
  }
 ],
 "metadata": {
  "kernelspec": {
   "display_name": "Python 3",
   "language": "python",
   "name": "python3"
  },
  "language_info": {
   "codemirror_mode": {
    "name": "ipython",
    "version": 3
   },
   "file_extension": ".py",
   "mimetype": "text/x-python",
   "name": "python",
   "nbconvert_exporter": "python",
   "pygments_lexer": "ipython3",
   "version": "3.7.6"
  }
 },
 "nbformat": 4,
 "nbformat_minor": 4
}
