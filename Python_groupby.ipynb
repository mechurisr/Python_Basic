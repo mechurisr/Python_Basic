{
 "cells": [
  {
   "cell_type": "code",
   "execution_count": 12,
   "metadata": {},
   "outputs": [
    {
     "data": {
      "text/html": [
       "<div>\n",
       "<style scoped>\n",
       "    .dataframe tbody tr th:only-of-type {\n",
       "        vertical-align: middle;\n",
       "    }\n",
       "\n",
       "    .dataframe tbody tr th {\n",
       "        vertical-align: top;\n",
       "    }\n",
       "\n",
       "    .dataframe thead th {\n",
       "        text-align: right;\n",
       "    }\n",
       "</style>\n",
       "<table border=\"1\" class=\"dataframe\">\n",
       "  <thead>\n",
       "    <tr style=\"text-align: right;\">\n",
       "      <th></th>\n",
       "      <th>index</th>\n",
       "      <th>date</th>\n",
       "      <th>duration</th>\n",
       "      <th>item</th>\n",
       "      <th>month</th>\n",
       "      <th>network</th>\n",
       "      <th>network_type</th>\n",
       "    </tr>\n",
       "  </thead>\n",
       "  <tbody>\n",
       "    <tr>\n",
       "      <th>0</th>\n",
       "      <td>0</td>\n",
       "      <td>15/10/14 06:58</td>\n",
       "      <td>34.429</td>\n",
       "      <td>data</td>\n",
       "      <td>2014-11</td>\n",
       "      <td>data</td>\n",
       "      <td>data</td>\n",
       "    </tr>\n",
       "    <tr>\n",
       "      <th>1</th>\n",
       "      <td>1</td>\n",
       "      <td>15/10/14 06:58</td>\n",
       "      <td>13.000</td>\n",
       "      <td>call</td>\n",
       "      <td>2014-11</td>\n",
       "      <td>Vodafone</td>\n",
       "      <td>mobile</td>\n",
       "    </tr>\n",
       "    <tr>\n",
       "      <th>2</th>\n",
       "      <td>2</td>\n",
       "      <td>15/10/14 14:46</td>\n",
       "      <td>23.000</td>\n",
       "      <td>call</td>\n",
       "      <td>2014-11</td>\n",
       "      <td>Meteor</td>\n",
       "      <td>mobile</td>\n",
       "    </tr>\n",
       "    <tr>\n",
       "      <th>3</th>\n",
       "      <td>3</td>\n",
       "      <td>15/10/14 14:48</td>\n",
       "      <td>4.000</td>\n",
       "      <td>call</td>\n",
       "      <td>2014-11</td>\n",
       "      <td>Tesco</td>\n",
       "      <td>mobile</td>\n",
       "    </tr>\n",
       "    <tr>\n",
       "      <th>4</th>\n",
       "      <td>4</td>\n",
       "      <td>15/10/14 17:27</td>\n",
       "      <td>4.000</td>\n",
       "      <td>call</td>\n",
       "      <td>2014-11</td>\n",
       "      <td>Tesco</td>\n",
       "      <td>mobile</td>\n",
       "    </tr>\n",
       "  </tbody>\n",
       "</table>\n",
       "</div>"
      ],
      "text/plain": [
       "   index            date  duration  item    month   network network_type\n",
       "0      0  15/10/14 06:58    34.429  data  2014-11      data         data\n",
       "1      1  15/10/14 06:58    13.000  call  2014-11  Vodafone       mobile\n",
       "2      2  15/10/14 14:46    23.000  call  2014-11    Meteor       mobile\n",
       "3      3  15/10/14 14:48     4.000  call  2014-11     Tesco       mobile\n",
       "4      4  15/10/14 17:27     4.000  call  2014-11     Tesco       mobile"
      ]
     },
     "execution_count": 12,
     "metadata": {},
     "output_type": "execute_result"
    }
   ],
   "source": [
    "import pandas as pd\n",
    "data = pd.read_csv(\"C:\\\\Users\\\\acorn-519\\\\Desktop\\\\sampledata\\\\10_phone_data.csv\", parse_dates=True)\n",
    "\n",
    "data.head()"
   ]
  },
  {
   "cell_type": "code",
   "execution_count": 66,
   "metadata": {},
   "outputs": [],
   "source": [
    "import dateutil"
   ]
  },
  {
   "cell_type": "code",
   "execution_count": 68,
   "metadata": {},
   "outputs": [
    {
     "data": {
      "text/html": [
       "<div>\n",
       "<style scoped>\n",
       "    .dataframe tbody tr th:only-of-type {\n",
       "        vertical-align: middle;\n",
       "    }\n",
       "\n",
       "    .dataframe tbody tr th {\n",
       "        vertical-align: top;\n",
       "    }\n",
       "\n",
       "    .dataframe thead th {\n",
       "        text-align: right;\n",
       "    }\n",
       "</style>\n",
       "<table border=\"1\" class=\"dataframe\">\n",
       "  <thead>\n",
       "    <tr style=\"text-align: right;\">\n",
       "      <th></th>\n",
       "      <th>index</th>\n",
       "      <th>date</th>\n",
       "      <th>duration</th>\n",
       "      <th>item</th>\n",
       "      <th>month</th>\n",
       "      <th>network</th>\n",
       "      <th>network_type</th>\n",
       "    </tr>\n",
       "  </thead>\n",
       "  <tbody>\n",
       "    <tr>\n",
       "      <th>0</th>\n",
       "      <td>0</td>\n",
       "      <td>2014-10-15 06:58:00</td>\n",
       "      <td>34.429</td>\n",
       "      <td>data</td>\n",
       "      <td>2014-11</td>\n",
       "      <td>data</td>\n",
       "      <td>data</td>\n",
       "    </tr>\n",
       "    <tr>\n",
       "      <th>1</th>\n",
       "      <td>1</td>\n",
       "      <td>2014-10-15 06:58:00</td>\n",
       "      <td>13.000</td>\n",
       "      <td>call</td>\n",
       "      <td>2014-11</td>\n",
       "      <td>Vodafone</td>\n",
       "      <td>mobile</td>\n",
       "    </tr>\n",
       "    <tr>\n",
       "      <th>2</th>\n",
       "      <td>2</td>\n",
       "      <td>2014-10-15 14:46:00</td>\n",
       "      <td>23.000</td>\n",
       "      <td>call</td>\n",
       "      <td>2014-11</td>\n",
       "      <td>Meteor</td>\n",
       "      <td>mobile</td>\n",
       "    </tr>\n",
       "    <tr>\n",
       "      <th>3</th>\n",
       "      <td>3</td>\n",
       "      <td>2014-10-15 14:48:00</td>\n",
       "      <td>4.000</td>\n",
       "      <td>call</td>\n",
       "      <td>2014-11</td>\n",
       "      <td>Tesco</td>\n",
       "      <td>mobile</td>\n",
       "    </tr>\n",
       "    <tr>\n",
       "      <th>4</th>\n",
       "      <td>4</td>\n",
       "      <td>2014-10-15 17:27:00</td>\n",
       "      <td>4.000</td>\n",
       "      <td>call</td>\n",
       "      <td>2014-11</td>\n",
       "      <td>Tesco</td>\n",
       "      <td>mobile</td>\n",
       "    </tr>\n",
       "  </tbody>\n",
       "</table>\n",
       "</div>"
      ],
      "text/plain": [
       "   index                date  duration  item    month   network network_type\n",
       "0      0 2014-10-15 06:58:00    34.429  data  2014-11      data         data\n",
       "1      1 2014-10-15 06:58:00    13.000  call  2014-11  Vodafone       mobile\n",
       "2      2 2014-10-15 14:46:00    23.000  call  2014-11    Meteor       mobile\n",
       "3      3 2014-10-15 14:48:00     4.000  call  2014-11     Tesco       mobile\n",
       "4      4 2014-10-15 17:27:00     4.000  call  2014-11     Tesco       mobile"
      ]
     },
     "execution_count": 68,
     "metadata": {},
     "output_type": "execute_result"
    }
   ],
   "source": [
    "import pandas as pd\n",
    "data = pd.read_csv(\"C:\\\\Users\\\\acorn-519\\\\Desktop\\\\sampledata\\\\10_phone_data.csv\")\n",
    "data['date'] = data['date'].apply(dateutil.parser.parse, dayfirst=True)\n",
    "data.head()"
   ]
  },
  {
   "cell_type": "code",
   "execution_count": 69,
   "metadata": {},
   "outputs": [
    {
     "name": "stdout",
     "output_type": "stream",
     "text": [
      "<class 'pandas.core.frame.DataFrame'>\n",
      "RangeIndex: 830 entries, 0 to 829\n",
      "Data columns (total 7 columns):\n",
      " #   Column        Non-Null Count  Dtype         \n",
      "---  ------        --------------  -----         \n",
      " 0   index         830 non-null    int64         \n",
      " 1   date          830 non-null    datetime64[ns]\n",
      " 2   duration      830 non-null    float64       \n",
      " 3   item          830 non-null    object        \n",
      " 4   month         830 non-null    object        \n",
      " 5   network       830 non-null    object        \n",
      " 6   network_type  830 non-null    object        \n",
      "dtypes: datetime64[ns](1), float64(1), int64(1), object(4)\n",
      "memory usage: 45.5+ KB\n"
     ]
    }
   ],
   "source": [
    "data.info()"
   ]
  },
  {
   "cell_type": "code",
   "execution_count": 70,
   "metadata": {},
   "outputs": [
    {
     "data": {
      "text/plain": [
       "call    388\n",
       "sms     292\n",
       "data    150\n",
       "Name: item, dtype: int64"
      ]
     },
     "execution_count": 70,
     "metadata": {},
     "output_type": "execute_result"
    }
   ],
   "source": [
    "data[\"item\"].value_counts()"
   ]
  },
  {
   "cell_type": "code",
   "execution_count": null,
   "metadata": {},
   "outputs": [],
   "source": [
    "#\n",
    "Q1. 전체 데이터 중에서 item의 data의 수가 몇 개인가요?\n",
    "Q2. 전체 데이터 중에서 duration의 값을 참조하여 가장 긴 사용시간을 찾아보세요\n",
    "Q3. 전체 데이터 중에서 통화(item에서 call)인 값들의 사용시간(duration)의 합은?\n",
    "Q4. 전체 데이터 중에서 각 달에 얼마나 많은 건수가 있는지 확인해보세요."
   ]
  },
  {
   "cell_type": "code",
   "execution_count": 71,
   "metadata": {},
   "outputs": [
    {
     "data": {
      "text/plain": [
       "150"
      ]
     },
     "execution_count": 71,
     "metadata": {},
     "output_type": "execute_result"
    }
   ],
   "source": [
    "# Q1\n",
    "data[\"item\"].value_counts()[\"data\"]"
   ]
  },
  {
   "cell_type": "code",
   "execution_count": 72,
   "metadata": {},
   "outputs": [
    {
     "data": {
      "text/plain": [
       "150"
      ]
     },
     "execution_count": 72,
     "metadata": {},
     "output_type": "execute_result"
    }
   ],
   "source": [
    "data[\"item\"].value_counts()[2]"
   ]
  },
  {
   "cell_type": "code",
   "execution_count": 73,
   "metadata": {},
   "outputs": [
    {
     "data": {
      "text/plain": [
       "830"
      ]
     },
     "execution_count": 73,
     "metadata": {},
     "output_type": "execute_result"
    }
   ],
   "source": [
    "data[\"item\"].count()"
   ]
  },
  {
   "cell_type": "code",
   "execution_count": 74,
   "metadata": {},
   "outputs": [
    {
     "data": {
      "text/plain": [
       "92321.0"
      ]
     },
     "execution_count": 74,
     "metadata": {},
     "output_type": "execute_result"
    }
   ],
   "source": [
    "# Q2\n",
    "data[\"duration\"][data[\"item\"]==\"call\"].sum()"
   ]
  },
  {
   "cell_type": "code",
   "execution_count": 75,
   "metadata": {},
   "outputs": [
    {
     "data": {
      "text/plain": [
       "2014-11    230\n",
       "2015-01    205\n",
       "2014-12    157\n",
       "2015-02    137\n",
       "2015-03    101\n",
       "Name: month, dtype: int64"
      ]
     },
     "execution_count": 75,
     "metadata": {},
     "output_type": "execute_result"
    }
   ],
   "source": [
    "data[\"month\"].value_counts()"
   ]
  },
  {
   "cell_type": "code",
   "execution_count": 76,
   "metadata": {},
   "outputs": [
    {
     "data": {
      "text/plain": [
       "10528.0"
      ]
     },
     "execution_count": 76,
     "metadata": {},
     "output_type": "execute_result"
    }
   ],
   "source": [
    "data[\"duration\"].max()"
   ]
  },
  {
   "cell_type": "code",
   "execution_count": 78,
   "metadata": {},
   "outputs": [
    {
     "ename": "SyntaxError",
     "evalue": "invalid syntax (<ipython-input-78-499c72f1f7e1>, line 4)",
     "output_type": "error",
     "traceback": [
      "\u001b[1;36m  File \u001b[1;32m\"<ipython-input-78-499c72f1f7e1>\"\u001b[1;36m, line \u001b[1;32m4\u001b[0m\n\u001b[1;33m    ~~~~~\u001b[0m\n\u001b[1;37m    ^\u001b[0m\n\u001b[1;31mSyntaxError\u001b[0m\u001b[1;31m:\u001b[0m invalid syntax\n"
     ]
    }
   ],
   "source": [
    "for i in data[\"month\"].unique():\n",
    "    data[data[\"month\"]==[i]\n",
    "#data[data[\"month\"]==\"2014-11\"]\n",
    "~~~~~"
   ]
  },
  {
   "cell_type": "code",
   "execution_count": 84,
   "metadata": {},
   "outputs": [
    {
     "data": {
      "text/plain": [
       "<pandas.core.groupby.generic.DataFrameGroupBy object at 0x000001C72D5A91C8>"
      ]
     },
     "execution_count": 84,
     "metadata": {},
     "output_type": "execute_result"
    }
   ],
   "source": [
    "data.groupby([\"month\"])"
   ]
  },
  {
   "cell_type": "code",
   "execution_count": 85,
   "metadata": {},
   "outputs": [
    {
     "data": {
      "text/plain": [
       "dict_keys(['2014-11', '2014-12', '2015-01', '2015-02', '2015-03'])"
      ]
     },
     "execution_count": 85,
     "metadata": {},
     "output_type": "execute_result"
    }
   ],
   "source": [
    "data.groupby([\"month\"]).groups.keys()"
   ]
  },
  {
   "cell_type": "code",
   "execution_count": 86,
   "metadata": {},
   "outputs": [
    {
     "data": {
      "text/plain": [
       "dict_values([Int64Index([  0,   1,   2,   3,   4,   5,   6,   7,   8,   9,\n",
       "            ...\n",
       "            220, 221, 222, 223, 224, 225, 226, 227, 229, 230],\n",
       "           dtype='int64', length=230), Int64Index([228, 231, 232, 233, 234, 235, 236, 237, 238, 239,\n",
       "            ...\n",
       "            377, 378, 379, 380, 382, 383, 384, 385, 387, 388],\n",
       "           dtype='int64', length=157), Int64Index([381, 386, 389, 390, 391, 392, 393, 394, 395, 396,\n",
       "            ...\n",
       "            583, 584, 585, 587, 588, 589, 590, 591, 592, 593],\n",
       "           dtype='int64', length=205), Int64Index([577, 586, 594, 595, 596, 597, 598, 599, 600, 601,\n",
       "            ...\n",
       "            719, 720, 721, 722, 723, 724, 725, 726, 727, 728],\n",
       "           dtype='int64', length=137), Int64Index([729, 730, 731, 732, 733, 734, 735, 736, 737, 738,\n",
       "            ...\n",
       "            820, 821, 822, 823, 824, 825, 826, 827, 828, 829],\n",
       "           dtype='int64', length=101)])"
      ]
     },
     "execution_count": 86,
     "metadata": {},
     "output_type": "execute_result"
    }
   ],
   "source": [
    "data.groupby([\"month\"]).groups.values()"
   ]
  },
  {
   "cell_type": "code",
   "execution_count": 87,
   "metadata": {},
   "outputs": [
    {
     "data": {
      "text/plain": [
       "Int64Index([  0,   1,   2,   3,   4,   5,   6,   7,   8,   9,\n",
       "            ...\n",
       "            220, 221, 222, 223, 224, 225, 226, 227, 229, 230],\n",
       "           dtype='int64', length=230)"
      ]
     },
     "execution_count": 87,
     "metadata": {},
     "output_type": "execute_result"
    }
   ],
   "source": [
    "data.groupby([\"month\"]).groups[\"2014-11\"]"
   ]
  },
  {
   "cell_type": "code",
   "execution_count": 88,
   "metadata": {},
   "outputs": [
    {
     "name": "stdout",
     "output_type": "stream",
     "text": [
      "2014-11\n",
      "     index                date  duration  item    month   network network_type\n",
      "0        0 2014-10-15 06:58:00    34.429  data  2014-11      data         data\n",
      "1        1 2014-10-15 06:58:00    13.000  call  2014-11  Vodafone       mobile\n",
      "2        2 2014-10-15 14:46:00    23.000  call  2014-11    Meteor       mobile\n",
      "3        3 2014-10-15 14:48:00     4.000  call  2014-11     Tesco       mobile\n",
      "4        4 2014-10-15 17:27:00     4.000  call  2014-11     Tesco       mobile\n",
      "..     ...                 ...       ...   ...      ...       ...          ...\n",
      "225    225 2014-11-12 19:18:00     1.000   sms  2014-11     Three       mobile\n",
      "226    226 2014-11-12 19:18:00     1.000   sms  2014-11     Three       mobile\n",
      "227    227 2014-11-12 19:20:00     1.000   sms  2014-11  Vodafone       mobile\n",
      "229    229 2014-11-13 22:30:00     1.000   sms  2014-11     Three       mobile\n",
      "230    230 2014-11-13 22:31:00     1.000   sms  2014-11  Vodafone       mobile\n",
      "\n",
      "[230 rows x 7 columns]\n",
      "-----\n",
      "2014-12\n",
      "     index                date  duration  item    month    network  \\\n",
      "228    228 2014-11-13 06:58:00    34.429  data  2014-12       data   \n",
      "231    231 2014-11-14 06:58:00    34.429  data  2014-12       data   \n",
      "232    232 2014-11-14 17:24:00   124.000  call  2014-12  voicemail   \n",
      "233    233 2014-11-14 17:28:00     1.000   sms  2014-12   Vodafone   \n",
      "234    234 2014-11-15 06:58:00    34.429  data  2014-12       data   \n",
      "..     ...                 ...       ...   ...      ...        ...   \n",
      "383    383 2014-12-14 02:05:00    14.000  call  2014-12   landline   \n",
      "384    384 2014-12-14 02:07:00     8.000  call  2014-12   landline   \n",
      "385    385 2014-12-14 02:09:00    74.000  call  2014-12   landline   \n",
      "387    387 2014-12-14 15:28:00    59.000  call  2014-12  voicemail   \n",
      "388    388 2014-12-14 19:54:00    25.000  call  2014-12      Three   \n",
      "\n",
      "    network_type  \n",
      "228         data  \n",
      "231         data  \n",
      "232    voicemail  \n",
      "233       mobile  \n",
      "234         data  \n",
      "..           ...  \n",
      "383     landline  \n",
      "384     landline  \n",
      "385     landline  \n",
      "387    voicemail  \n",
      "388       mobile  \n",
      "\n",
      "[157 rows x 7 columns]\n",
      "-----\n",
      "2015-01\n",
      "     index                date  duration  item    month   network network_type\n",
      "381    381 2014-12-13 06:58:00    34.429  data  2015-01      data         data\n",
      "386    386 2014-12-14 06:58:00    34.429  data  2015-01      data         data\n",
      "389    389 2014-12-15 06:58:00    34.429  data  2015-01      data         data\n",
      "390    390 2014-12-15 19:56:00     1.000   sms  2015-01     Three       mobile\n",
      "391    391 2014-12-15 19:58:00     1.000   sms  2015-01     Three       mobile\n",
      "..     ...                 ...       ...   ...      ...       ...          ...\n",
      "589    589 2015-01-14 20:47:00    36.000  call  2015-01     Three       mobile\n",
      "590    590 2015-01-14 23:34:00     1.000   sms  2015-01  Vodafone       mobile\n",
      "591    591 2015-01-14 23:34:00     1.000   sms  2015-01  Vodafone       mobile\n",
      "592    592 2015-01-14 23:35:00     1.000   sms  2015-01     Three       mobile\n",
      "593    593 2015-01-14 23:36:00     1.000   sms  2015-01     Three       mobile\n",
      "\n",
      "[205 rows x 7 columns]\n",
      "-----\n",
      "2015-02\n",
      "     index                date  duration  item    month   network network_type\n",
      "577    577 2015-01-13 06:58:00    34.429  data  2015-02      data         data\n",
      "586    586 2015-01-14 06:58:00    34.429  data  2015-02      data         data\n",
      "594    594 2015-01-15 06:58:00    34.429  data  2015-02      data         data\n",
      "595    595 2015-01-15 10:36:00    28.000  call  2015-02     Three       mobile\n",
      "596    596 2015-01-15 12:23:00     1.000   sms  2015-02   special      special\n",
      "..     ...                 ...       ...   ...      ...       ...          ...\n",
      "724    724 2015-02-10 00:24:00     1.000   sms  2015-02  Vodafone       mobile\n",
      "725    725 2015-02-10 06:58:00    34.429  data  2015-02      data         data\n",
      "726    726 2015-02-10 21:40:00     1.000   sms  2015-02  Vodafone       mobile\n",
      "727    727 2015-02-11 06:58:00    34.429  data  2015-02      data         data\n",
      "728    728 2015-02-12 06:58:00    34.429  data  2015-02      data         data\n",
      "\n",
      "[137 rows x 7 columns]\n",
      "-----\n",
      "2015-03\n",
      "     index                date  duration  item    month   network network_type\n",
      "729    729 2015-02-12 20:15:00    69.000  call  2015-03  landline     landline\n",
      "730    730 2015-02-12 20:51:00    86.000  call  2015-03     Tesco       mobile\n",
      "731    731 2015-02-13 06:58:00    34.429  data  2015-03      data         data\n",
      "732    732 2015-02-13 10:58:00   451.000  call  2015-03  Vodafone       mobile\n",
      "733    733 2015-02-13 21:13:00     8.000  call  2015-03  Vodafone       mobile\n",
      "..     ...                 ...       ...   ...      ...       ...          ...\n",
      "825    825 2015-03-13 00:38:00     1.000   sms  2015-03     world        world\n",
      "826    826 2015-03-13 00:39:00     1.000   sms  2015-03  Vodafone       mobile\n",
      "827    827 2015-03-13 06:58:00    34.429  data  2015-03      data         data\n",
      "828    828 2015-03-14 00:13:00     1.000   sms  2015-03     world        world\n",
      "829    829 2015-03-14 00:16:00     1.000   sms  2015-03     world        world\n",
      "\n",
      "[101 rows x 7 columns]\n",
      "-----\n"
     ]
    }
   ],
   "source": [
    "for name, group in data.groupby(\"month\"):\n",
    "    print(name)\n",
    "    print(group)\n",
    "    print(\"-----\")"
   ]
  },
  {
   "cell_type": "code",
   "execution_count": 89,
   "metadata": {},
   "outputs": [
    {
     "data": {
      "text/html": [
       "<div>\n",
       "<style scoped>\n",
       "    .dataframe tbody tr th:only-of-type {\n",
       "        vertical-align: middle;\n",
       "    }\n",
       "\n",
       "    .dataframe tbody tr th {\n",
       "        vertical-align: top;\n",
       "    }\n",
       "\n",
       "    .dataframe thead th {\n",
       "        text-align: right;\n",
       "    }\n",
       "</style>\n",
       "<table border=\"1\" class=\"dataframe\">\n",
       "  <thead>\n",
       "    <tr style=\"text-align: right;\">\n",
       "      <th></th>\n",
       "      <th>index</th>\n",
       "      <th>date</th>\n",
       "      <th>duration</th>\n",
       "      <th>item</th>\n",
       "      <th>network</th>\n",
       "      <th>network_type</th>\n",
       "    </tr>\n",
       "    <tr>\n",
       "      <th>month</th>\n",
       "      <th></th>\n",
       "      <th></th>\n",
       "      <th></th>\n",
       "      <th></th>\n",
       "      <th></th>\n",
       "      <th></th>\n",
       "    </tr>\n",
       "  </thead>\n",
       "  <tbody>\n",
       "    <tr>\n",
       "      <th>2014-11</th>\n",
       "      <td>0</td>\n",
       "      <td>2014-10-15 06:58:00</td>\n",
       "      <td>34.429</td>\n",
       "      <td>data</td>\n",
       "      <td>data</td>\n",
       "      <td>data</td>\n",
       "    </tr>\n",
       "    <tr>\n",
       "      <th>2014-12</th>\n",
       "      <td>228</td>\n",
       "      <td>2014-11-13 06:58:00</td>\n",
       "      <td>34.429</td>\n",
       "      <td>data</td>\n",
       "      <td>data</td>\n",
       "      <td>data</td>\n",
       "    </tr>\n",
       "    <tr>\n",
       "      <th>2015-01</th>\n",
       "      <td>381</td>\n",
       "      <td>2014-12-13 06:58:00</td>\n",
       "      <td>34.429</td>\n",
       "      <td>data</td>\n",
       "      <td>data</td>\n",
       "      <td>data</td>\n",
       "    </tr>\n",
       "    <tr>\n",
       "      <th>2015-02</th>\n",
       "      <td>577</td>\n",
       "      <td>2015-01-13 06:58:00</td>\n",
       "      <td>34.429</td>\n",
       "      <td>data</td>\n",
       "      <td>data</td>\n",
       "      <td>data</td>\n",
       "    </tr>\n",
       "    <tr>\n",
       "      <th>2015-03</th>\n",
       "      <td>729</td>\n",
       "      <td>2015-02-12 20:15:00</td>\n",
       "      <td>69.000</td>\n",
       "      <td>call</td>\n",
       "      <td>landline</td>\n",
       "      <td>landline</td>\n",
       "    </tr>\n",
       "  </tbody>\n",
       "</table>\n",
       "</div>"
      ],
      "text/plain": [
       "         index                date  duration  item   network network_type\n",
       "month                                                                    \n",
       "2014-11      0 2014-10-15 06:58:00    34.429  data      data         data\n",
       "2014-12    228 2014-11-13 06:58:00    34.429  data      data         data\n",
       "2015-01    381 2014-12-13 06:58:00    34.429  data      data         data\n",
       "2015-02    577 2015-01-13 06:58:00    34.429  data      data         data\n",
       "2015-03    729 2015-02-12 20:15:00    69.000  call  landline     landline"
      ]
     },
     "execution_count": 89,
     "metadata": {},
     "output_type": "execute_result"
    }
   ],
   "source": [
    "data.groupby(\"month\").first()"
   ]
  },
  {
   "cell_type": "code",
   "execution_count": 90,
   "metadata": {},
   "outputs": [
    {
     "data": {
      "text/html": [
       "<div>\n",
       "<style scoped>\n",
       "    .dataframe tbody tr th:only-of-type {\n",
       "        vertical-align: middle;\n",
       "    }\n",
       "\n",
       "    .dataframe tbody tr th {\n",
       "        vertical-align: top;\n",
       "    }\n",
       "\n",
       "    .dataframe thead th {\n",
       "        text-align: right;\n",
       "    }\n",
       "</style>\n",
       "<table border=\"1\" class=\"dataframe\">\n",
       "  <thead>\n",
       "    <tr style=\"text-align: right;\">\n",
       "      <th></th>\n",
       "      <th>index</th>\n",
       "      <th>duration</th>\n",
       "    </tr>\n",
       "    <tr>\n",
       "      <th>month</th>\n",
       "      <th></th>\n",
       "      <th></th>\n",
       "    </tr>\n",
       "  </thead>\n",
       "  <tbody>\n",
       "    <tr>\n",
       "      <th>2014-11</th>\n",
       "      <td>26337</td>\n",
       "      <td>26639.441</td>\n",
       "    </tr>\n",
       "    <tr>\n",
       "      <th>2014-12</th>\n",
       "      <td>48362</td>\n",
       "      <td>14641.870</td>\n",
       "    </tr>\n",
       "    <tr>\n",
       "      <th>2015-01</th>\n",
       "      <td>100259</td>\n",
       "      <td>18223.299</td>\n",
       "    </tr>\n",
       "    <tr>\n",
       "      <th>2015-02</th>\n",
       "      <td>90398</td>\n",
       "      <td>15522.299</td>\n",
       "    </tr>\n",
       "    <tr>\n",
       "      <th>2015-03</th>\n",
       "      <td>78679</td>\n",
       "      <td>22750.441</td>\n",
       "    </tr>\n",
       "  </tbody>\n",
       "</table>\n",
       "</div>"
      ],
      "text/plain": [
       "          index   duration\n",
       "month                     \n",
       "2014-11   26337  26639.441\n",
       "2014-12   48362  14641.870\n",
       "2015-01  100259  18223.299\n",
       "2015-02   90398  15522.299\n",
       "2015-03   78679  22750.441"
      ]
     },
     "execution_count": 90,
     "metadata": {},
     "output_type": "execute_result"
    }
   ],
   "source": [
    "data.groupby(\"month\").sum() # mean()"
   ]
  },
  {
   "cell_type": "code",
   "execution_count": 48,
   "metadata": {},
   "outputs": [
    {
     "data": {
      "text/plain": [
       "2014-11    230\n",
       "2015-01    205\n",
       "2014-12    157\n",
       "2015-02    137\n",
       "2015-03    101\n",
       "Name: month, dtype: int64"
      ]
     },
     "execution_count": 48,
     "metadata": {},
     "output_type": "execute_result"
    }
   ],
   "source": [
    "data[\"month\"].value_counts()"
   ]
  },
  {
   "cell_type": "code",
   "execution_count": 50,
   "metadata": {},
   "outputs": [
    {
     "data": {
      "text/plain": [
       "month\n",
       "2014-11    230\n",
       "2014-12    157\n",
       "2015-01    205\n",
       "2015-02    137\n",
       "2015-03    101\n",
       "Name: date, dtype: int64"
      ]
     },
     "execution_count": 50,
     "metadata": {},
     "output_type": "execute_result"
    }
   ],
   "source": [
    "data.groupby(\"month\")[\"date\"].count()"
   ]
  },
  {
   "cell_type": "code",
   "execution_count": null,
   "metadata": {},
   "outputs": [],
   "source": []
  },
  {
   "cell_type": "code",
   "execution_count": null,
   "metadata": {},
   "outputs": [],
   "source": [
    "Q) item의 값이 call인 데이터 중에서(-->전체 데이터 주 ㅇ원하는 조건에 맞게 추리기)\n",
    "통신사별로(network)(-->그 데이터를 통신사별로 묶어서 생각하겠다)\n",
    "duration값의 총 합을 보고자 함(-->최종적으로 보고자 하는 값)"
   ]
  },
  {
   "cell_type": "code",
   "execution_count": 54,
   "metadata": {},
   "outputs": [
    {
     "data": {
      "text/plain": [
       "network\n",
       "Meteor        7233.00\n",
       "Tesco        13841.00\n",
       "Three        36551.00\n",
       "Vodafone     14770.00\n",
       "data          5164.35\n",
       "landline     18433.00\n",
       "special          3.00\n",
       "voicemail     1775.00\n",
       "world            7.00\n",
       "Name: duration, dtype: float64"
      ]
     },
     "execution_count": 54,
     "metadata": {},
     "output_type": "execute_result"
    }
   ],
   "source": [
    "data.groupby(\"network\")[\"duration\"].sum()"
   ]
  },
  {
   "cell_type": "code",
   "execution_count": 57,
   "metadata": {},
   "outputs": [
    {
     "data": {
      "text/plain": [
       "network\n",
       "Meteor        7200.0\n",
       "Tesco        13828.0\n",
       "Three        36464.0\n",
       "Vodafone     14621.0\n",
       "landline     18433.0\n",
       "voicemail     1775.0\n",
       "Name: duration, dtype: float64"
      ]
     },
     "execution_count": 57,
     "metadata": {},
     "output_type": "execute_result"
    }
   ],
   "source": [
    "data[data[\"item\"]==\"call\"].groupby(\"network\")[\"duration\"].sum()"
   ]
  },
  {
   "cell_type": "code",
   "execution_count": 56,
   "metadata": {},
   "outputs": [
    {
     "data": {
      "text/plain": [
       "month    item\n",
       "2014-11  call    107\n",
       "         data     29\n",
       "         sms      94\n",
       "2014-12  call     79\n",
       "         data     30\n",
       "         sms      48\n",
       "2015-01  call     88\n",
       "         data     31\n",
       "         sms      86\n",
       "2015-02  call     67\n",
       "         data     31\n",
       "         sms      39\n",
       "2015-03  call     47\n",
       "         data     29\n",
       "         sms      25\n",
       "Name: date, dtype: int64"
      ]
     },
     "execution_count": 56,
     "metadata": {},
     "output_type": "execute_result"
    }
   ],
   "source": [
    "data.groupby([\"month\",\"item\"])[\"date\"].count()"
   ]
  },
  {
   "cell_type": "code",
   "execution_count": 58,
   "metadata": {},
   "outputs": [
    {
     "data": {
      "text/html": [
       "<div>\n",
       "<style scoped>\n",
       "    .dataframe tbody tr th:only-of-type {\n",
       "        vertical-align: middle;\n",
       "    }\n",
       "\n",
       "    .dataframe tbody tr th {\n",
       "        vertical-align: top;\n",
       "    }\n",
       "\n",
       "    .dataframe thead th {\n",
       "        text-align: right;\n",
       "    }\n",
       "</style>\n",
       "<table border=\"1\" class=\"dataframe\">\n",
       "  <thead>\n",
       "    <tr style=\"text-align: right;\">\n",
       "      <th></th>\n",
       "      <th></th>\n",
       "      <th>index</th>\n",
       "      <th>date</th>\n",
       "      <th>duration</th>\n",
       "      <th>network</th>\n",
       "      <th>network_type</th>\n",
       "    </tr>\n",
       "    <tr>\n",
       "      <th>month</th>\n",
       "      <th>item</th>\n",
       "      <th></th>\n",
       "      <th></th>\n",
       "      <th></th>\n",
       "      <th></th>\n",
       "      <th></th>\n",
       "    </tr>\n",
       "  </thead>\n",
       "  <tbody>\n",
       "    <tr>\n",
       "      <th rowspan=\"3\" valign=\"top\">2014-11</th>\n",
       "      <th>call</th>\n",
       "      <td>107</td>\n",
       "      <td>107</td>\n",
       "      <td>107</td>\n",
       "      <td>107</td>\n",
       "      <td>107</td>\n",
       "    </tr>\n",
       "    <tr>\n",
       "      <th>data</th>\n",
       "      <td>29</td>\n",
       "      <td>29</td>\n",
       "      <td>29</td>\n",
       "      <td>29</td>\n",
       "      <td>29</td>\n",
       "    </tr>\n",
       "    <tr>\n",
       "      <th>sms</th>\n",
       "      <td>94</td>\n",
       "      <td>94</td>\n",
       "      <td>94</td>\n",
       "      <td>94</td>\n",
       "      <td>94</td>\n",
       "    </tr>\n",
       "    <tr>\n",
       "      <th rowspan=\"3\" valign=\"top\">2014-12</th>\n",
       "      <th>call</th>\n",
       "      <td>79</td>\n",
       "      <td>79</td>\n",
       "      <td>79</td>\n",
       "      <td>79</td>\n",
       "      <td>79</td>\n",
       "    </tr>\n",
       "    <tr>\n",
       "      <th>data</th>\n",
       "      <td>30</td>\n",
       "      <td>30</td>\n",
       "      <td>30</td>\n",
       "      <td>30</td>\n",
       "      <td>30</td>\n",
       "    </tr>\n",
       "    <tr>\n",
       "      <th>sms</th>\n",
       "      <td>48</td>\n",
       "      <td>48</td>\n",
       "      <td>48</td>\n",
       "      <td>48</td>\n",
       "      <td>48</td>\n",
       "    </tr>\n",
       "    <tr>\n",
       "      <th rowspan=\"3\" valign=\"top\">2015-01</th>\n",
       "      <th>call</th>\n",
       "      <td>88</td>\n",
       "      <td>88</td>\n",
       "      <td>88</td>\n",
       "      <td>88</td>\n",
       "      <td>88</td>\n",
       "    </tr>\n",
       "    <tr>\n",
       "      <th>data</th>\n",
       "      <td>31</td>\n",
       "      <td>31</td>\n",
       "      <td>31</td>\n",
       "      <td>31</td>\n",
       "      <td>31</td>\n",
       "    </tr>\n",
       "    <tr>\n",
       "      <th>sms</th>\n",
       "      <td>86</td>\n",
       "      <td>86</td>\n",
       "      <td>86</td>\n",
       "      <td>86</td>\n",
       "      <td>86</td>\n",
       "    </tr>\n",
       "    <tr>\n",
       "      <th rowspan=\"3\" valign=\"top\">2015-02</th>\n",
       "      <th>call</th>\n",
       "      <td>67</td>\n",
       "      <td>67</td>\n",
       "      <td>67</td>\n",
       "      <td>67</td>\n",
       "      <td>67</td>\n",
       "    </tr>\n",
       "    <tr>\n",
       "      <th>data</th>\n",
       "      <td>31</td>\n",
       "      <td>31</td>\n",
       "      <td>31</td>\n",
       "      <td>31</td>\n",
       "      <td>31</td>\n",
       "    </tr>\n",
       "    <tr>\n",
       "      <th>sms</th>\n",
       "      <td>39</td>\n",
       "      <td>39</td>\n",
       "      <td>39</td>\n",
       "      <td>39</td>\n",
       "      <td>39</td>\n",
       "    </tr>\n",
       "    <tr>\n",
       "      <th rowspan=\"3\" valign=\"top\">2015-03</th>\n",
       "      <th>call</th>\n",
       "      <td>47</td>\n",
       "      <td>47</td>\n",
       "      <td>47</td>\n",
       "      <td>47</td>\n",
       "      <td>47</td>\n",
       "    </tr>\n",
       "    <tr>\n",
       "      <th>data</th>\n",
       "      <td>29</td>\n",
       "      <td>29</td>\n",
       "      <td>29</td>\n",
       "      <td>29</td>\n",
       "      <td>29</td>\n",
       "    </tr>\n",
       "    <tr>\n",
       "      <th>sms</th>\n",
       "      <td>25</td>\n",
       "      <td>25</td>\n",
       "      <td>25</td>\n",
       "      <td>25</td>\n",
       "      <td>25</td>\n",
       "    </tr>\n",
       "  </tbody>\n",
       "</table>\n",
       "</div>"
      ],
      "text/plain": [
       "              index  date  duration  network  network_type\n",
       "month   item                                              \n",
       "2014-11 call    107   107       107      107           107\n",
       "        data     29    29        29       29            29\n",
       "        sms      94    94        94       94            94\n",
       "2014-12 call     79    79        79       79            79\n",
       "        data     30    30        30       30            30\n",
       "        sms      48    48        48       48            48\n",
       "2015-01 call     88    88        88       88            88\n",
       "        data     31    31        31       31            31\n",
       "        sms      86    86        86       86            86\n",
       "2015-02 call     67    67        67       67            67\n",
       "        data     31    31        31       31            31\n",
       "        sms      39    39        39       39            39\n",
       "2015-03 call     47    47        47       47            47\n",
       "        data     29    29        29       29            29\n",
       "        sms      25    25        25       25            25"
      ]
     },
     "execution_count": 58,
     "metadata": {},
     "output_type": "execute_result"
    }
   ],
   "source": [
    "# 기준 : month-item\n",
    "#보고자 하는 값 : duration, network_type, date\n",
    "#duration -> 합, network_type -> 건수, date -> 제일 처음 값\n",
    "\n",
    "data.groupby([\"month\",\"item\"]).count()"
   ]
  },
  {
   "cell_type": "code",
   "execution_count": 60,
   "metadata": {},
   "outputs": [
    {
     "data": {
      "text/html": [
       "<div>\n",
       "<style scoped>\n",
       "    .dataframe tbody tr th:only-of-type {\n",
       "        vertical-align: middle;\n",
       "    }\n",
       "\n",
       "    .dataframe tbody tr th {\n",
       "        vertical-align: top;\n",
       "    }\n",
       "\n",
       "    .dataframe thead th {\n",
       "        text-align: right;\n",
       "    }\n",
       "</style>\n",
       "<table border=\"1\" class=\"dataframe\">\n",
       "  <thead>\n",
       "    <tr style=\"text-align: right;\">\n",
       "      <th></th>\n",
       "      <th></th>\n",
       "      <th>duration</th>\n",
       "      <th>network_type</th>\n",
       "      <th>date</th>\n",
       "    </tr>\n",
       "    <tr>\n",
       "      <th>month</th>\n",
       "      <th>item</th>\n",
       "      <th></th>\n",
       "      <th></th>\n",
       "      <th></th>\n",
       "    </tr>\n",
       "  </thead>\n",
       "  <tbody>\n",
       "    <tr>\n",
       "      <th rowspan=\"3\" valign=\"top\">2014-11</th>\n",
       "      <th>call</th>\n",
       "      <td>25547.000</td>\n",
       "      <td>107</td>\n",
       "      <td>15/10/14 06:58</td>\n",
       "    </tr>\n",
       "    <tr>\n",
       "      <th>data</th>\n",
       "      <td>998.441</td>\n",
       "      <td>29</td>\n",
       "      <td>15/10/14 06:58</td>\n",
       "    </tr>\n",
       "    <tr>\n",
       "      <th>sms</th>\n",
       "      <td>94.000</td>\n",
       "      <td>94</td>\n",
       "      <td>16/10/14 22:18</td>\n",
       "    </tr>\n",
       "    <tr>\n",
       "      <th rowspan=\"3\" valign=\"top\">2014-12</th>\n",
       "      <th>call</th>\n",
       "      <td>13561.000</td>\n",
       "      <td>79</td>\n",
       "      <td>14/11/14 17:24</td>\n",
       "    </tr>\n",
       "    <tr>\n",
       "      <th>data</th>\n",
       "      <td>1032.870</td>\n",
       "      <td>30</td>\n",
       "      <td>13/11/14 06:58</td>\n",
       "    </tr>\n",
       "    <tr>\n",
       "      <th>sms</th>\n",
       "      <td>48.000</td>\n",
       "      <td>48</td>\n",
       "      <td>14/11/14 17:28</td>\n",
       "    </tr>\n",
       "    <tr>\n",
       "      <th rowspan=\"3\" valign=\"top\">2015-01</th>\n",
       "      <th>call</th>\n",
       "      <td>17070.000</td>\n",
       "      <td>88</td>\n",
       "      <td>15/12/14 20:03</td>\n",
       "    </tr>\n",
       "    <tr>\n",
       "      <th>data</th>\n",
       "      <td>1067.299</td>\n",
       "      <td>31</td>\n",
       "      <td>13/12/14 06:58</td>\n",
       "    </tr>\n",
       "    <tr>\n",
       "      <th>sms</th>\n",
       "      <td>86.000</td>\n",
       "      <td>86</td>\n",
       "      <td>15/12/14 19:56</td>\n",
       "    </tr>\n",
       "    <tr>\n",
       "      <th rowspan=\"3\" valign=\"top\">2015-02</th>\n",
       "      <th>call</th>\n",
       "      <td>14416.000</td>\n",
       "      <td>67</td>\n",
       "      <td>15/01/15 10:36</td>\n",
       "    </tr>\n",
       "    <tr>\n",
       "      <th>data</th>\n",
       "      <td>1067.299</td>\n",
       "      <td>31</td>\n",
       "      <td>13/01/15 06:58</td>\n",
       "    </tr>\n",
       "    <tr>\n",
       "      <th>sms</th>\n",
       "      <td>39.000</td>\n",
       "      <td>39</td>\n",
       "      <td>15/01/15 12:23</td>\n",
       "    </tr>\n",
       "    <tr>\n",
       "      <th rowspan=\"3\" valign=\"top\">2015-03</th>\n",
       "      <th>call</th>\n",
       "      <td>21727.000</td>\n",
       "      <td>47</td>\n",
       "      <td>12/02/15 20:15</td>\n",
       "    </tr>\n",
       "    <tr>\n",
       "      <th>data</th>\n",
       "      <td>998.441</td>\n",
       "      <td>29</td>\n",
       "      <td>13/02/15 06:58</td>\n",
       "    </tr>\n",
       "    <tr>\n",
       "      <th>sms</th>\n",
       "      <td>25.000</td>\n",
       "      <td>25</td>\n",
       "      <td>19/02/15 18:46</td>\n",
       "    </tr>\n",
       "  </tbody>\n",
       "</table>\n",
       "</div>"
      ],
      "text/plain": [
       "               duration  network_type            date\n",
       "month   item                                         \n",
       "2014-11 call  25547.000           107  15/10/14 06:58\n",
       "        data    998.441            29  15/10/14 06:58\n",
       "        sms      94.000            94  16/10/14 22:18\n",
       "2014-12 call  13561.000            79  14/11/14 17:24\n",
       "        data   1032.870            30  13/11/14 06:58\n",
       "        sms      48.000            48  14/11/14 17:28\n",
       "2015-01 call  17070.000            88  15/12/14 20:03\n",
       "        data   1067.299            31  13/12/14 06:58\n",
       "        sms      86.000            86  15/12/14 19:56\n",
       "2015-02 call  14416.000            67  15/01/15 10:36\n",
       "        data   1067.299            31  13/01/15 06:58\n",
       "        sms      39.000            39  15/01/15 12:23\n",
       "2015-03 call  21727.000            47  12/02/15 20:15\n",
       "        data    998.441            29  13/02/15 06:58\n",
       "        sms      25.000            25  19/02/15 18:46"
      ]
     },
     "execution_count": 60,
     "metadata": {},
     "output_type": "execute_result"
    }
   ],
   "source": [
    "data.groupby([\"month\",\"item\"]).agg({\"duration\":\"sum\",\n",
    "                                     \"network_type\" : \"count\",\n",
    "                                     \"date\" : \"first\"\n",
    "                                    })"
   ]
  },
  {
   "cell_type": "code",
   "execution_count": 64,
   "metadata": {},
   "outputs": [
    {
     "data": {
      "text/html": [
       "<div>\n",
       "<style scoped>\n",
       "    .dataframe tbody tr th:only-of-type {\n",
       "        vertical-align: middle;\n",
       "    }\n",
       "\n",
       "    .dataframe tbody tr th {\n",
       "        vertical-align: top;\n",
       "    }\n",
       "\n",
       "    .dataframe thead th {\n",
       "        text-align: right;\n",
       "    }\n",
       "</style>\n",
       "<table border=\"1\" class=\"dataframe\">\n",
       "  <thead>\n",
       "    <tr style=\"text-align: right;\">\n",
       "      <th></th>\n",
       "      <th></th>\n",
       "      <th>date</th>\n",
       "      <th>duration</th>\n",
       "      <th>network_type</th>\n",
       "    </tr>\n",
       "    <tr>\n",
       "      <th>month</th>\n",
       "      <th>item</th>\n",
       "      <th></th>\n",
       "      <th></th>\n",
       "      <th></th>\n",
       "    </tr>\n",
       "  </thead>\n",
       "  <tbody>\n",
       "    <tr>\n",
       "      <th rowspan=\"3\" valign=\"top\">2014-11</th>\n",
       "      <th>call</th>\n",
       "      <td>15/10/14 06:58</td>\n",
       "      <td>25547.000</td>\n",
       "      <td>107</td>\n",
       "    </tr>\n",
       "    <tr>\n",
       "      <th>data</th>\n",
       "      <td>15/10/14 06:58</td>\n",
       "      <td>998.441</td>\n",
       "      <td>29</td>\n",
       "    </tr>\n",
       "    <tr>\n",
       "      <th>sms</th>\n",
       "      <td>16/10/14 22:18</td>\n",
       "      <td>94.000</td>\n",
       "      <td>94</td>\n",
       "    </tr>\n",
       "    <tr>\n",
       "      <th rowspan=\"3\" valign=\"top\">2014-12</th>\n",
       "      <th>call</th>\n",
       "      <td>14/11/14 17:24</td>\n",
       "      <td>13561.000</td>\n",
       "      <td>79</td>\n",
       "    </tr>\n",
       "    <tr>\n",
       "      <th>data</th>\n",
       "      <td>13/11/14 06:58</td>\n",
       "      <td>1032.870</td>\n",
       "      <td>30</td>\n",
       "    </tr>\n",
       "    <tr>\n",
       "      <th>sms</th>\n",
       "      <td>14/11/14 17:28</td>\n",
       "      <td>48.000</td>\n",
       "      <td>48</td>\n",
       "    </tr>\n",
       "    <tr>\n",
       "      <th rowspan=\"3\" valign=\"top\">2015-01</th>\n",
       "      <th>call</th>\n",
       "      <td>15/12/14 20:03</td>\n",
       "      <td>17070.000</td>\n",
       "      <td>88</td>\n",
       "    </tr>\n",
       "    <tr>\n",
       "      <th>data</th>\n",
       "      <td>13/12/14 06:58</td>\n",
       "      <td>1067.299</td>\n",
       "      <td>31</td>\n",
       "    </tr>\n",
       "    <tr>\n",
       "      <th>sms</th>\n",
       "      <td>15/12/14 19:56</td>\n",
       "      <td>86.000</td>\n",
       "      <td>86</td>\n",
       "    </tr>\n",
       "    <tr>\n",
       "      <th rowspan=\"3\" valign=\"top\">2015-02</th>\n",
       "      <th>call</th>\n",
       "      <td>15/01/15 10:36</td>\n",
       "      <td>14416.000</td>\n",
       "      <td>67</td>\n",
       "    </tr>\n",
       "    <tr>\n",
       "      <th>data</th>\n",
       "      <td>13/01/15 06:58</td>\n",
       "      <td>1067.299</td>\n",
       "      <td>31</td>\n",
       "    </tr>\n",
       "    <tr>\n",
       "      <th>sms</th>\n",
       "      <td>15/01/15 12:23</td>\n",
       "      <td>39.000</td>\n",
       "      <td>39</td>\n",
       "    </tr>\n",
       "    <tr>\n",
       "      <th rowspan=\"3\" valign=\"top\">2015-03</th>\n",
       "      <th>call</th>\n",
       "      <td>12/02/15 20:15</td>\n",
       "      <td>21727.000</td>\n",
       "      <td>47</td>\n",
       "    </tr>\n",
       "    <tr>\n",
       "      <th>data</th>\n",
       "      <td>13/02/15 06:58</td>\n",
       "      <td>998.441</td>\n",
       "      <td>29</td>\n",
       "    </tr>\n",
       "    <tr>\n",
       "      <th>sms</th>\n",
       "      <td>19/02/15 18:46</td>\n",
       "      <td>25.000</td>\n",
       "      <td>25</td>\n",
       "    </tr>\n",
       "  </tbody>\n",
       "</table>\n",
       "</div>"
      ],
      "text/plain": [
       "                        date   duration  network_type\n",
       "month   item                                         \n",
       "2014-11 call  15/10/14 06:58  25547.000           107\n",
       "        data  15/10/14 06:58    998.441            29\n",
       "        sms   16/10/14 22:18     94.000            94\n",
       "2014-12 call  14/11/14 17:24  13561.000            79\n",
       "        data  13/11/14 06:58   1032.870            30\n",
       "        sms   14/11/14 17:28     48.000            48\n",
       "2015-01 call  15/12/14 20:03  17070.000            88\n",
       "        data  13/12/14 06:58   1067.299            31\n",
       "        sms   15/12/14 19:56     86.000            86\n",
       "2015-02 call  15/01/15 10:36  14416.000            67\n",
       "        data  13/01/15 06:58   1067.299            31\n",
       "        sms   15/01/15 12:23     39.000            39\n",
       "2015-03 call  12/02/15 20:15  21727.000            47\n",
       "        data  13/02/15 06:58    998.441            29\n",
       "        sms   19/02/15 18:46     25.000            25"
      ]
     },
     "execution_count": 64,
     "metadata": {},
     "output_type": "execute_result"
    }
   ],
   "source": [
    "pd.pivot_table(data,\n",
    "               index = [\"month\",\"item\"], # 가로줄 세팅\n",
    "              # values = [\"duration\", \"network_type\", \"date\"], # 세로줄 세팅\n",
    "               aggfunc = {\n",
    "                   \"duration\" : \"sum\",\n",
    "                   \"network_type\" : \"count\",\n",
    "                   \"date\" : \"first\"\n",
    "              })"
   ]
  },
  {
   "cell_type": "code",
   "execution_count": null,
   "metadata": {},
   "outputs": [],
   "source": []
  },
  {
   "cell_type": "code",
   "execution_count": null,
   "metadata": {},
   "outputs": [],
   "source": []
  },
  {
   "cell_type": "code",
   "execution_count": null,
   "metadata": {},
   "outputs": [],
   "source": []
  },
  {
   "cell_type": "code",
   "execution_count": null,
   "metadata": {},
   "outputs": [],
   "source": []
  },
  {
   "cell_type": "code",
   "execution_count": null,
   "metadata": {},
   "outputs": [],
   "source": []
  }
 ],
 "metadata": {
  "kernelspec": {
   "display_name": "Python 3",
   "language": "python",
   "name": "python3"
  },
  "language_info": {
   "codemirror_mode": {
    "name": "ipython",
    "version": 3
   },
   "file_extension": ".py",
   "mimetype": "text/x-python",
   "name": "python",
   "nbconvert_exporter": "python",
   "pygments_lexer": "ipython3",
   "version": "3.7.6"
  }
 },
 "nbformat": 4,
 "nbformat_minor": 4
}
