{
 "cells": [
  {
   "cell_type": "code",
   "execution_count": 4,
   "metadata": {},
   "outputs": [],
   "source": [
    "import pandas as pd\n",
    "import json"
   ]
  },
  {
   "cell_type": "code",
   "execution_count": 6,
   "metadata": {},
   "outputs": [
    {
     "name": "stdout",
     "output_type": "stream",
     "text": [
      "{'color': 'red', 'value': '#100'}\n"
     ]
    }
   ],
   "source": [
    "#01) json 만들기\n",
    "# \"\"\" {키 : 값} \"\"\"\n",
    "json_data1 = \"\"\"{\n",
    "    \"color\" : \"red\",\n",
    "    \"value\" : \"#100\"\n",
    "}\"\"\"\n",
    "\n",
    "result = json.loads(json_data1)\n",
    "print(result)"
   ]
  },
  {
   "cell_type": "code",
   "execution_count": 7,
   "metadata": {},
   "outputs": [
    {
     "data": {
      "text/plain": [
       "'red'"
      ]
     },
     "execution_count": 7,
     "metadata": {},
     "output_type": "execute_result"
    }
   ],
   "source": [
    "result[\"color\"]"
   ]
  },
  {
   "cell_type": "code",
   "execution_count": 8,
   "metadata": {},
   "outputs": [
    {
     "data": {
      "text/plain": [
       "'#100'"
      ]
     },
     "execution_count": 8,
     "metadata": {},
     "output_type": "execute_result"
    }
   ],
   "source": [
    "result[\"value\"]"
   ]
  },
  {
   "cell_type": "code",
   "execution_count": 9,
   "metadata": {},
   "outputs": [
    {
     "data": {
      "text/plain": [
       "dict_keys(['color', 'value'])"
      ]
     },
     "execution_count": 9,
     "metadata": {},
     "output_type": "execute_result"
    }
   ],
   "source": [
    "result.keys()"
   ]
  },
  {
   "cell_type": "code",
   "execution_count": 10,
   "metadata": {},
   "outputs": [
    {
     "name": "stdout",
     "output_type": "stream",
     "text": [
      "{'id': '0001', 'type': 'donut', 'name': 'Cake', 'ppu': 0.55, 'batters': {'batter': [{'id': '1001', 'type': 'Regular'}, {'id': '1002', 'type': 'Chocolate'}, {'id': '1003', 'type': 'Blueberry'}, {'id': '1004', 'type': \"Devil's Food\"}]}, 'topping': [{'id': '5001', 'type': 'None'}, {'id': '5002', 'type': 'Glazed'}, {'id': '5005', 'type': 'Sugar'}, {'id': '5007', 'type': 'Powdered Sugar'}, {'id': '5006', 'type': 'Chocolate with Sprinkles'}, {'id': '5003', 'type': 'Chocolate'}, {'id': '5004', 'type': 'Maple'}]}\n"
     ]
    }
   ],
   "source": [
    "# 02) json data 2\n",
    "json_data2 = \"\"\"{\n",
    "    \"id\": \"0001\",\n",
    "    \"type\": \"donut\",\n",
    "    \"name\": \"Cake\",\n",
    "    \"ppu\": 0.55,\n",
    "    \"batters\":{\n",
    "            \"batter\": [\n",
    "                            { \"id\": \"1001\", \"type\": \"Regular\" },\n",
    "                            { \"id\": \"1002\", \"type\": \"Chocolate\" },\n",
    "                            { \"id\": \"1003\", \"type\": \"Blueberry\" },\n",
    "                            { \"id\": \"1004\", \"type\": \"Devil's Food\" }\n",
    "                            ]\n",
    "                        },\n",
    "    \"topping\":\n",
    "        [\n",
    "            { \"id\": \"5001\", \"type\": \"None\" },\n",
    "            { \"id\": \"5002\", \"type\": \"Glazed\" },\n",
    "            { \"id\": \"5005\", \"type\": \"Sugar\" },\n",
    "            { \"id\": \"5007\", \"type\": \"Powdered Sugar\" },\n",
    "            { \"id\": \"5006\", \"type\": \"Chocolate with Sprinkles\" },\n",
    "            { \"id\": \"5003\", \"type\": \"Chocolate\" },\n",
    "            { \"id\": \"5004\", \"type\": \"Maple\" }\n",
    "]\n",
    "}\"\"\"\n",
    "result = json.loads(json_data2)\n",
    "print(result)"
   ]
  },
  {
   "cell_type": "code",
   "execution_count": 11,
   "metadata": {},
   "outputs": [
    {
     "data": {
      "text/plain": [
       "[{'id': '5001', 'type': 'None'},\n",
       " {'id': '5002', 'type': 'Glazed'},\n",
       " {'id': '5005', 'type': 'Sugar'},\n",
       " {'id': '5007', 'type': 'Powdered Sugar'},\n",
       " {'id': '5006', 'type': 'Chocolate with Sprinkles'},\n",
       " {'id': '5003', 'type': 'Chocolate'},\n",
       " {'id': '5004', 'type': 'Maple'}]"
      ]
     },
     "execution_count": 11,
     "metadata": {},
     "output_type": "execute_result"
    }
   ],
   "source": [
    "result[\"topping\"]"
   ]
  },
  {
   "cell_type": "code",
   "execution_count": 12,
   "metadata": {},
   "outputs": [
    {
     "data": {
      "text/plain": [
       "'Sugar'"
      ]
     },
     "execution_count": 12,
     "metadata": {},
     "output_type": "execute_result"
    }
   ],
   "source": [
    "result[\"topping\"][2][\"type\"]"
   ]
  },
  {
   "cell_type": "code",
   "execution_count": null,
   "metadata": {},
   "outputs": [],
   "source": [
    "#batter 2번째 값을 출력 / 2번째 topping의 데이터를 출력"
   ]
  },
  {
   "cell_type": "code",
   "execution_count": 15,
   "metadata": {},
   "outputs": [
    {
     "data": {
      "text/plain": [
       "'1002'"
      ]
     },
     "execution_count": 15,
     "metadata": {},
     "output_type": "execute_result"
    }
   ],
   "source": [
    "result[\"batters\"][\"batter\"][1][\"id\"]"
   ]
  },
  {
   "cell_type": "code",
   "execution_count": 17,
   "metadata": {},
   "outputs": [
    {
     "data": {
      "text/plain": [
       "{'id': '5002', 'type': 'Glazed'}"
      ]
     },
     "execution_count": 17,
     "metadata": {},
     "output_type": "execute_result"
    }
   ],
   "source": [
    "result[\"topping\"][1]"
   ]
  },
  {
   "cell_type": "code",
   "execution_count": null,
   "metadata": {},
   "outputs": [],
   "source": []
  },
  {
   "cell_type": "code",
   "execution_count": null,
   "metadata": {},
   "outputs": [],
   "source": []
  },
  {
   "cell_type": "code",
   "execution_count": null,
   "metadata": {},
   "outputs": [],
   "source": []
  },
  {
   "cell_type": "code",
   "execution_count": 19,
   "metadata": {},
   "outputs": [],
   "source": [
    "import pandas as pd\n",
    "import urllib.request\n",
    "import json"
   ]
  },
  {
   "cell_type": "code",
   "execution_count": 70,
   "metadata": {},
   "outputs": [
    {
     "data": {
      "text/plain": [
       "'http://www.kobis.or.kr/kobisopenapi/webservice/rest/movie/searchMovieList.json?key=80b1793712960b5dfe1c3386942f37d9'"
      ]
     },
     "execution_count": 70,
     "metadata": {},
     "output_type": "execute_result"
    }
   ],
   "source": [
    "movieIdListURL = \"http://www.kobis.or.kr/kobisopenapi/webservice/rest/movie/searchMovieList.json?key=80b1793712960b5dfe1c3386942f37d9\"\n",
    "movieIdListURL"
   ]
  },
  {
   "cell_type": "code",
   "execution_count": 72,
   "metadata": {
    "scrolled": false
   },
   "outputs": [
    {
     "data": {
      "text/plain": [
       "{'movieListResult': {'totCnt': 76558,\n",
       "  'source': '영화진흥위원회',\n",
       "  'movieList': [{'movieCd': '30209992',\n",
       "    'movieNm': '경복궁1234',\n",
       "    'movieNmEn': 'The women of Kyeongbokgung',\n",
       "    'prdtYear': '1971',\n",
       "    'openDt': '19720513',\n",
       "    'typeNm': '장편',\n",
       "    'prdtStatNm': '개봉',\n",
       "    'nationAlt': '',\n",
       "    'genreAlt': '',\n",
       "    'repNationNm': '한국',\n",
       "    'repGenreNm': '드라마',\n",
       "    'directors': [],\n",
       "    'companys': []},\n",
       "   {'movieCd': '30209993',\n",
       "    'movieNm': '경복궁12345',\n",
       "    'movieNmEn': 'The women of Kyeongbokgung',\n",
       "    'prdtYear': '1971',\n",
       "    'openDt': '19720513',\n",
       "    'typeNm': '장편',\n",
       "    'prdtStatNm': '개봉',\n",
       "    'nationAlt': '',\n",
       "    'genreAlt': '',\n",
       "    'repNationNm': '한국',\n",
       "    'repGenreNm': '드라마',\n",
       "    'directors': [],\n",
       "    'companys': []},\n",
       "   {'movieCd': '20193450',\n",
       "    'movieNm': '반도',\n",
       "    'movieNmEn': 'Peninsula',\n",
       "    'prdtYear': '2020',\n",
       "    'openDt': '20200715',\n",
       "    'typeNm': '장편',\n",
       "    'prdtStatNm': '개봉예정',\n",
       "    'nationAlt': '한국',\n",
       "    'genreAlt': '액션,드라마',\n",
       "    'repNationNm': '한국',\n",
       "    'repGenreNm': '액션',\n",
       "    'directors': [{'peopleNm': '연상호'}],\n",
       "    'companys': [{'companyCd': '20140808', 'companyNm': '(주)영화사레드피터'}]},\n",
       "   {'movieCd': '20201922',\n",
       "    'movieNm': '알로하',\n",
       "    'movieNmEn': '',\n",
       "    'prdtYear': '2019',\n",
       "    'openDt': '',\n",
       "    'typeNm': '단편',\n",
       "    'prdtStatNm': '기타',\n",
       "    'nationAlt': '한국',\n",
       "    'genreAlt': '기타',\n",
       "    'repNationNm': '한국',\n",
       "    'repGenreNm': '기타',\n",
       "    'directors': [],\n",
       "    'companys': []},\n",
       "   {'movieCd': '20201941',\n",
       "    'movieNm': '너의 대학은 : 동아방송예술대학교 편',\n",
       "    'movieNmEn': '',\n",
       "    'prdtYear': '2019',\n",
       "    'openDt': '',\n",
       "    'typeNm': '단편',\n",
       "    'prdtStatNm': '기타',\n",
       "    'nationAlt': '한국',\n",
       "    'genreAlt': '기타',\n",
       "    'repNationNm': '한국',\n",
       "    'repGenreNm': '기타',\n",
       "    'directors': [],\n",
       "    'companys': []},\n",
       "   {'movieCd': '20199302',\n",
       "    'movieNm': '테스와 보낸 여름',\n",
       "    'movieNmEn': 'My Extraordinary Summer with Tess',\n",
       "    'prdtYear': '2019',\n",
       "    'openDt': '',\n",
       "    'typeNm': '장편',\n",
       "    'prdtStatNm': '개봉예정',\n",
       "    'nationAlt': '네덜란드',\n",
       "    'genreAlt': '드라마',\n",
       "    'repNationNm': '네덜란드',\n",
       "    'repGenreNm': '드라마',\n",
       "    'directors': [{'peopleNm': '스티븐 바우터루드'}],\n",
       "    'companys': []},\n",
       "   {'movieCd': '20201803',\n",
       "    'movieNm': '소년 아메드',\n",
       "    'movieNmEn': 'Young Ahmed',\n",
       "    'prdtYear': '2019',\n",
       "    'openDt': '',\n",
       "    'typeNm': '장편',\n",
       "    'prdtStatNm': '개봉예정',\n",
       "    'nationAlt': '벨기에,프랑스',\n",
       "    'genreAlt': '드라마',\n",
       "    'repNationNm': '벨기에',\n",
       "    'repGenreNm': '드라마',\n",
       "    'directors': [{'peopleNm': '장 피에르 다르덴'}, {'peopleNm': '뤽 다르덴'}],\n",
       "    'companys': []},\n",
       "   {'movieCd': '20209983',\n",
       "    'movieNm': '마더체인지',\n",
       "    'movieNmEn': 'mother change',\n",
       "    'prdtYear': '2019',\n",
       "    'openDt': '20200609',\n",
       "    'typeNm': '장편',\n",
       "    'prdtStatNm': '개봉',\n",
       "    'nationAlt': '미국',\n",
       "    'genreAlt': '멜로/로맨스',\n",
       "    'repNationNm': '미국',\n",
       "    'repGenreNm': '멜로/로맨스',\n",
       "    'directors': [],\n",
       "    'companys': []},\n",
       "   {'movieCd': '20200003',\n",
       "    'movieNm': '내연녀',\n",
       "    'movieNmEn': 'secret mistress ',\n",
       "    'prdtYear': '2019',\n",
       "    'openDt': '20200609',\n",
       "    'typeNm': '장편',\n",
       "    'prdtStatNm': '개봉',\n",
       "    'nationAlt': '한국',\n",
       "    'genreAlt': '성인물(에로)',\n",
       "    'repNationNm': '한국',\n",
       "    'repGenreNm': '성인물(에로)',\n",
       "    'directors': [{'peopleNm': '이영인'}],\n",
       "    'companys': [{'companyCd': '20160221', 'companyNm': '(주)투모션'}]},\n",
       "   {'movieCd': '20200143',\n",
       "    'movieNm': '시누이의 맛',\n",
       "    'movieNmEn': '',\n",
       "    'prdtYear': '2020',\n",
       "    'openDt': '20200612',\n",
       "    'typeNm': '장편',\n",
       "    'prdtStatNm': '개봉',\n",
       "    'nationAlt': '한국',\n",
       "    'genreAlt': '드라마,성인물(에로)',\n",
       "    'repNationNm': '한국',\n",
       "    'repGenreNm': '드라마',\n",
       "    'directors': [{'peopleNm': '최정자'}],\n",
       "    'companys': [{'companyCd': '20186981', 'companyNm': '주식회사 플릭스코'}]}]}}"
      ]
     },
     "execution_count": 72,
     "metadata": {},
     "output_type": "execute_result"
    }
   ],
   "source": [
    "movieIdPage = urllib.request.urlopen(movieIdListURL)\n",
    "movieIdData = json.loads(movieIdPage.read().decode('utf8'), encoding=\"utf8\")\n",
    "movieIdData"
   ]
  },
  {
   "cell_type": "code",
   "execution_count": 31,
   "metadata": {},
   "outputs": [
    {
     "data": {
      "text/plain": [
       "941"
      ]
     },
     "execution_count": 31,
     "metadata": {},
     "output_type": "execute_result"
    }
   ],
   "source": [
    "movieIdData[\"movieListResult\"][\"totCnt\"]"
   ]
  },
  {
   "cell_type": "code",
   "execution_count": null,
   "metadata": {},
   "outputs": [],
   "source": []
  },
  {
   "cell_type": "code",
   "execution_count": null,
   "metadata": {},
   "outputs": [],
   "source": []
  },
  {
   "cell_type": "code",
   "execution_count": null,
   "metadata": {},
   "outputs": [],
   "source": []
  },
  {
   "cell_type": "code",
   "execution_count": null,
   "metadata": {},
   "outputs": [],
   "source": []
  },
  {
   "cell_type": "code",
   "execution_count": 23,
   "metadata": {},
   "outputs": [
    {
     "data": {
      "text/plain": [
       "'{\"movieListResult\":{\"totCnt\":941,\"source\":\"영화진흥위원회\",\"movieList\":[{\"movieCd\":\"20209801\",\"movieNm\":\"세 여자\",\"movieNmEn\":\"\",\"prdtYear\":\"2019\",\"openDt\":\"20200602\",\"typeNm\":\"장편\",\"prdtStatNm\":\"개봉\",\"nationAlt\":\"한국\",\"genreAlt\":\"멜로/로맨스,드라마\",\"repNationNm\":\"한국\",\"repGenreNm\":\"멜로/로맨스\",\"directors\":[{\"peopleNm\":\"왕지방\"}],\"companys\":[{\"companyCd\":\"20123227\",\"companyNm\":\"(주)나우콘텐츠\"}]},{\"movieCd\":\"20201841\",\"movieNm\":\"부활\",\"movieNmEn\":\"\",\"prdtYear\":\"2020\",\"openDt\":\"20200709\",\"typeNm\":\"장편\",\"prdtStatNm\":\"개봉예정\",\"nationAlt\":\"한국\",\"genreAlt\":\"다큐멘터리\",\"repNationNm\":\"한국\",\"repGenreNm\":\"다큐멘터리\",\"directors\":[{\"peopleNm\":\"구수환\"}],\"companys\":[{\"companyCd\":\"20204022\",\"companyNm\":\"(주)중헌홀딩스\"}]},{\"movieCd\":\"20200304\",\"movieNm\":\"테우리\",\"movieNmEn\":\"Teuri\",\"prdtYear\":\"2019\",\"openDt\":\"20200709\",\"typeNm\":\"장편\",\"prdtStatNm\":\"개봉예정\",\"nationAlt\":\"한국\",\"genreAlt\":\"드라마\",\"repNationNm\":\"한국\",\"repGenreNm\":\"드라마\",\"directors\":[{\"peopleNm\":\"이난\"}],\"companys\":[{\"companyCd\":\"20154448\",\"companyNm\":\"(주)26컴퍼니\"}]},{\"movieCd\":\"20207923\",\"movieNm\":\"킬 모드\",\"movieNmEn\":\"KILL MODE\",\"prdtYear\":\"2020\",\"openDt\":\"20200625\",\"typeNm\":\"장편\",\"prdtStatNm\":\"개봉\",\"nationAlt\":\"네덜란드\",\"genreAlt\":\"액션\",\"repNationNm\":\"네덜란드\",\"repGenreNm\":\"액션\",\"directors\":[],\"companys\":[]},{\"movieCd\":\"20200083\",\"movieNm\":\"해피 디 데이\",\"movieNmEn\":\"Dog Days\",\"prdtYear\":\"2018\",\"openDt\":\"20200701\",\"typeNm\":\"장편\",\"prdtStatNm\":\"개봉예정\",\"nationAlt\":\"미국\",\"genreAlt\":\"코미디,드라마,멜로/로맨스\",\"repNationNm\":\"미국\",\"repGenreNm\":\"코미디\",\"directors\":[{\"peopleNm\":\"켄 마리노\"}],\"companys\":[]},{\"movieCd\":\"20200145\",\"movieNm\":\"할로윈: 살인마 잭\",\"movieNmEn\":\"The Legend of Halloween Jack\",\"prdtYear\":\"2018\",\"openDt\":\"20200630\",\"typeNm\":\"장편\",\"prdtStatNm\":\"개봉\",\"nationAlt\":\"영국\",\"genreAlt\":\"공포(호러)\",\"repNationNm\":\"영국\",\"repGenreNm\":\"공포(호러)\",\"directors\":[{\"peopleNm\":\"앤드류 존스\"}],\"companys\":[]},{\"movieCd\":\"20201644\",\"movieNm\":\"자매들: 감금의 추억 무삭제판\",\"movieNmEn\":\"\",\"prdtYear\":\"2019\",\"openDt\":\"20200630\",\"typeNm\":\"장편\",\"prdtStatNm\":\"개봉\",\"nationAlt\":\"한국\",\"genreAlt\":\"드라마\",\"repNationNm\":\"한국\",\"repGenreNm\":\"드라마\",\"directors\":[{\"peopleNm\":\"한동호\"}],\"companys\":[{\"companyCd\":\"20186981\",\"companyNm\":\"주식회사 플릭스코\"}]},{\"movieCd\":\"20201666\",\"movieNm\":\"여선생의 금지된 방문교육\",\"movieNmEn\":\"\",\"prdtYear\":\"2020\",\"openDt\":\"20200630\",\"typeNm\":\"장편\",\"prdtStatNm\":\"개봉\",\"nationAlt\":\"일본\",\"genreAlt\":\"드라마,성인물(에로)\",\"repNationNm\":\"일본\",\"repGenreNm\":\"드라마\",\"directors\":[],\"companys\":[]},{\"movieCd\":\"20201683\",\"movieNm\":\"신천역 3번출구-확장판\",\"movieNmEn\":\"\",\"prdtYear\":\"2019\",\"openDt\":\"20200630\",\"typeNm\":\"장편\",\"prdtStatNm\":\"개봉\",\"nationAlt\":\"한국\",\"genreAlt\":\"멜로/로맨스,드라마\",\"repNationNm\":\"한국\",\"repGenreNm\":\"멜로/로맨스\",\"directors\":[{\"peopleNm\":\"노현진\"}],\"companys\":[]},{\"movieCd\":\"20200730\",\"movieNm\":\"3022: 지구 대폭발\",\"movieNmEn\":\"3022\",\"prdtYear\":\"2019\",\"openDt\":\"20200630\",\"typeNm\":\"장편\",\"prdtStatNm\":\"개봉\",\"nationAlt\":\"미국\",\"genreAlt\":\"SF,드라마\",\"repNationNm\":\"미국\",\"repGenreNm\":\"SF\",\"directors\":[{\"peopleNm\":\"존 슈이츠\"}],\"companys\":[]}]}}'"
      ]
     },
     "execution_count": 23,
     "metadata": {},
     "output_type": "execute_result"
    }
   ],
   "source": [
    "movieIdData = json.loads(~~~~, encoding = \"utf8\")\n",
    "\n",
    "movieIdData = json.loads(movieIdPage.read().decode('utf8'))\n",
    "\n",
    "#movieIdPage.read().decode(\"utf8\")"
   ]
  },
  {
   "cell_type": "code",
   "execution_count": 28,
   "metadata": {
    "collapsed": true
   },
   "outputs": [
    {
     "ename": "JSONDecodeError",
     "evalue": "Expecting value: line 1 column 1 (char 0)",
     "output_type": "error",
     "traceback": [
      "\u001b[1;31m---------------------------------------------------------------------------\u001b[0m",
      "\u001b[1;31mJSONDecodeError\u001b[0m                           Traceback (most recent call last)",
      "\u001b[1;32m<ipython-input-28-594377c49be8>\u001b[0m in \u001b[0;36m<module>\u001b[1;34m\u001b[0m\n\u001b[1;32m----> 1\u001b[1;33m \u001b[0mmovieIdData\u001b[0m \u001b[1;33m=\u001b[0m \u001b[0mjson\u001b[0m\u001b[1;33m.\u001b[0m\u001b[0mloads\u001b[0m\u001b[1;33m(\u001b[0m\u001b[0mmovieIdPage\u001b[0m\u001b[1;33m.\u001b[0m\u001b[0mread\u001b[0m\u001b[1;33m(\u001b[0m\u001b[1;33m)\u001b[0m\u001b[1;33m.\u001b[0m\u001b[0mdecode\u001b[0m\u001b[1;33m(\u001b[0m\u001b[1;34m'utf8'\u001b[0m\u001b[1;33m)\u001b[0m\u001b[1;33m,\u001b[0m\u001b[0mencoding\u001b[0m\u001b[1;33m=\u001b[0m\u001b[1;34m\"utf8\"\u001b[0m\u001b[1;33m)\u001b[0m\u001b[1;33m\u001b[0m\u001b[1;33m\u001b[0m\u001b[0m\n\u001b[0m\u001b[0;32m      2\u001b[0m \u001b[0mmovieIdData\u001b[0m\u001b[1;33m\u001b[0m\u001b[1;33m\u001b[0m\u001b[0m\n",
      "\u001b[1;32m~\\anaconda3\\lib\\json\\__init__.py\u001b[0m in \u001b[0;36mloads\u001b[1;34m(s, encoding, cls, object_hook, parse_float, parse_int, parse_constant, object_pairs_hook, **kw)\u001b[0m\n\u001b[0;32m    346\u001b[0m             \u001b[0mparse_int\u001b[0m \u001b[1;32mis\u001b[0m \u001b[1;32mNone\u001b[0m \u001b[1;32mand\u001b[0m \u001b[0mparse_float\u001b[0m \u001b[1;32mis\u001b[0m \u001b[1;32mNone\u001b[0m \u001b[1;32mand\u001b[0m\u001b[1;33m\u001b[0m\u001b[1;33m\u001b[0m\u001b[0m\n\u001b[0;32m    347\u001b[0m             parse_constant is None and object_pairs_hook is None and not kw):\n\u001b[1;32m--> 348\u001b[1;33m         \u001b[1;32mreturn\u001b[0m \u001b[0m_default_decoder\u001b[0m\u001b[1;33m.\u001b[0m\u001b[0mdecode\u001b[0m\u001b[1;33m(\u001b[0m\u001b[0ms\u001b[0m\u001b[1;33m)\u001b[0m\u001b[1;33m\u001b[0m\u001b[1;33m\u001b[0m\u001b[0m\n\u001b[0m\u001b[0;32m    349\u001b[0m     \u001b[1;32mif\u001b[0m \u001b[0mcls\u001b[0m \u001b[1;32mis\u001b[0m \u001b[1;32mNone\u001b[0m\u001b[1;33m:\u001b[0m\u001b[1;33m\u001b[0m\u001b[1;33m\u001b[0m\u001b[0m\n\u001b[0;32m    350\u001b[0m         \u001b[0mcls\u001b[0m \u001b[1;33m=\u001b[0m \u001b[0mJSONDecoder\u001b[0m\u001b[1;33m\u001b[0m\u001b[1;33m\u001b[0m\u001b[0m\n",
      "\u001b[1;32m~\\anaconda3\\lib\\json\\decoder.py\u001b[0m in \u001b[0;36mdecode\u001b[1;34m(self, s, _w)\u001b[0m\n\u001b[0;32m    335\u001b[0m \u001b[1;33m\u001b[0m\u001b[0m\n\u001b[0;32m    336\u001b[0m         \"\"\"\n\u001b[1;32m--> 337\u001b[1;33m         \u001b[0mobj\u001b[0m\u001b[1;33m,\u001b[0m \u001b[0mend\u001b[0m \u001b[1;33m=\u001b[0m \u001b[0mself\u001b[0m\u001b[1;33m.\u001b[0m\u001b[0mraw_decode\u001b[0m\u001b[1;33m(\u001b[0m\u001b[0ms\u001b[0m\u001b[1;33m,\u001b[0m \u001b[0midx\u001b[0m\u001b[1;33m=\u001b[0m\u001b[0m_w\u001b[0m\u001b[1;33m(\u001b[0m\u001b[0ms\u001b[0m\u001b[1;33m,\u001b[0m \u001b[1;36m0\u001b[0m\u001b[1;33m)\u001b[0m\u001b[1;33m.\u001b[0m\u001b[0mend\u001b[0m\u001b[1;33m(\u001b[0m\u001b[1;33m)\u001b[0m\u001b[1;33m)\u001b[0m\u001b[1;33m\u001b[0m\u001b[1;33m\u001b[0m\u001b[0m\n\u001b[0m\u001b[0;32m    338\u001b[0m         \u001b[0mend\u001b[0m \u001b[1;33m=\u001b[0m \u001b[0m_w\u001b[0m\u001b[1;33m(\u001b[0m\u001b[0ms\u001b[0m\u001b[1;33m,\u001b[0m \u001b[0mend\u001b[0m\u001b[1;33m)\u001b[0m\u001b[1;33m.\u001b[0m\u001b[0mend\u001b[0m\u001b[1;33m(\u001b[0m\u001b[1;33m)\u001b[0m\u001b[1;33m\u001b[0m\u001b[1;33m\u001b[0m\u001b[0m\n\u001b[0;32m    339\u001b[0m         \u001b[1;32mif\u001b[0m \u001b[0mend\u001b[0m \u001b[1;33m!=\u001b[0m \u001b[0mlen\u001b[0m\u001b[1;33m(\u001b[0m\u001b[0ms\u001b[0m\u001b[1;33m)\u001b[0m\u001b[1;33m:\u001b[0m\u001b[1;33m\u001b[0m\u001b[1;33m\u001b[0m\u001b[0m\n",
      "\u001b[1;32m~\\anaconda3\\lib\\json\\decoder.py\u001b[0m in \u001b[0;36mraw_decode\u001b[1;34m(self, s, idx)\u001b[0m\n\u001b[0;32m    353\u001b[0m             \u001b[0mobj\u001b[0m\u001b[1;33m,\u001b[0m \u001b[0mend\u001b[0m \u001b[1;33m=\u001b[0m \u001b[0mself\u001b[0m\u001b[1;33m.\u001b[0m\u001b[0mscan_once\u001b[0m\u001b[1;33m(\u001b[0m\u001b[0ms\u001b[0m\u001b[1;33m,\u001b[0m \u001b[0midx\u001b[0m\u001b[1;33m)\u001b[0m\u001b[1;33m\u001b[0m\u001b[1;33m\u001b[0m\u001b[0m\n\u001b[0;32m    354\u001b[0m         \u001b[1;32mexcept\u001b[0m \u001b[0mStopIteration\u001b[0m \u001b[1;32mas\u001b[0m \u001b[0merr\u001b[0m\u001b[1;33m:\u001b[0m\u001b[1;33m\u001b[0m\u001b[1;33m\u001b[0m\u001b[0m\n\u001b[1;32m--> 355\u001b[1;33m             \u001b[1;32mraise\u001b[0m \u001b[0mJSONDecodeError\u001b[0m\u001b[1;33m(\u001b[0m\u001b[1;34m\"Expecting value\"\u001b[0m\u001b[1;33m,\u001b[0m \u001b[0ms\u001b[0m\u001b[1;33m,\u001b[0m \u001b[0merr\u001b[0m\u001b[1;33m.\u001b[0m\u001b[0mvalue\u001b[0m\u001b[1;33m)\u001b[0m \u001b[1;32mfrom\u001b[0m \u001b[1;32mNone\u001b[0m\u001b[1;33m\u001b[0m\u001b[1;33m\u001b[0m\u001b[0m\n\u001b[0m\u001b[0;32m    356\u001b[0m         \u001b[1;32mreturn\u001b[0m \u001b[0mobj\u001b[0m\u001b[1;33m,\u001b[0m \u001b[0mend\u001b[0m\u001b[1;33m\u001b[0m\u001b[1;33m\u001b[0m\u001b[0m\n",
      "\u001b[1;31mJSONDecodeError\u001b[0m: Expecting value: line 1 column 1 (char 0)"
     ]
    }
   ],
   "source": [
    "movieIdData = json.loads(movieIdPage.read().decode('utf8'),encoding=\"utf8\")\n",
    "movieIdData"
   ]
  },
  {
   "cell_type": "code",
   "execution_count": 26,
   "metadata": {},
   "outputs": [
    {
     "ename": "NameError",
     "evalue": "name 'movieIdData' is not defined",
     "output_type": "error",
     "traceback": [
      "\u001b[1;31m---------------------------------------------------------------------------\u001b[0m",
      "\u001b[1;31mNameError\u001b[0m                                 Traceback (most recent call last)",
      "\u001b[1;32m<ipython-input-26-c0d5b362ae0a>\u001b[0m in \u001b[0;36m<module>\u001b[1;34m\u001b[0m\n\u001b[1;32m----> 1\u001b[1;33m \u001b[0mmovieIdData\u001b[0m\u001b[1;33m[\u001b[0m\u001b[1;34m\"movieListResult\"\u001b[0m\u001b[1;33m]\u001b[0m\u001b[1;33m\u001b[0m\u001b[1;33m\u001b[0m\u001b[0m\n\u001b[0m",
      "\u001b[1;31mNameError\u001b[0m: name 'movieIdData' is not defined"
     ]
    }
   ],
   "source": [
    "movieIdData[\"movieListResult\"]"
   ]
  },
  {
   "cell_type": "code",
   "execution_count": null,
   "metadata": {},
   "outputs": [],
   "source": []
  },
  {
   "cell_type": "code",
   "execution_count": 32,
   "metadata": {
    "scrolled": true
   },
   "outputs": [
    {
     "data": {
      "text/plain": [
       "{'movieListResult': {'totCnt': 941,\n",
       "  'source': '영화진흥위원회',\n",
       "  'movieList': [{'movieCd': '20200304',\n",
       "    'movieNm': '테우리',\n",
       "    'movieNmEn': 'Teuri',\n",
       "    'prdtYear': '2019',\n",
       "    'openDt': '20200709',\n",
       "    'typeNm': '장편',\n",
       "    'prdtStatNm': '개봉예정',\n",
       "    'nationAlt': '한국',\n",
       "    'genreAlt': '드라마',\n",
       "    'repNationNm': '한국',\n",
       "    'repGenreNm': '드라마',\n",
       "    'directors': [{'peopleNm': '이난'}],\n",
       "    'companys': [{'companyCd': '20154448', 'companyNm': '(주)26컴퍼니'}]},\n",
       "   {'movieCd': '20209848',\n",
       "    'movieNm': '가슴 큰 앞집 소녀',\n",
       "    'movieNmEn': '',\n",
       "    'prdtYear': '2020',\n",
       "    'openDt': '20200603',\n",
       "    'typeNm': '장편',\n",
       "    'prdtStatNm': '개봉',\n",
       "    'nationAlt': '한국',\n",
       "    'genreAlt': '멜로/로맨스',\n",
       "    'repNationNm': '한국',\n",
       "    'repGenreNm': '멜로/로맨스',\n",
       "    'directors': [{'peopleNm': '이동준'}],\n",
       "    'companys': [{'companyCd': '20141069', 'companyNm': '미라클필름'}]},\n",
       "   {'movieCd': '20209801',\n",
       "    'movieNm': '세 여자',\n",
       "    'movieNmEn': '',\n",
       "    'prdtYear': '2019',\n",
       "    'openDt': '20200602',\n",
       "    'typeNm': '장편',\n",
       "    'prdtStatNm': '개봉',\n",
       "    'nationAlt': '한국',\n",
       "    'genreAlt': '멜로/로맨스,드라마',\n",
       "    'repNationNm': '한국',\n",
       "    'repGenreNm': '멜로/로맨스',\n",
       "    'directors': [{'peopleNm': '왕지방'}],\n",
       "    'companys': [{'companyCd': '20123227', 'companyNm': '(주)나우콘텐츠'}]},\n",
       "   {'movieCd': '20201841',\n",
       "    'movieNm': '부활',\n",
       "    'movieNmEn': '',\n",
       "    'prdtYear': '2020',\n",
       "    'openDt': '20200709',\n",
       "    'typeNm': '장편',\n",
       "    'prdtStatNm': '개봉예정',\n",
       "    'nationAlt': '한국',\n",
       "    'genreAlt': '다큐멘터리',\n",
       "    'repNationNm': '한국',\n",
       "    'repGenreNm': '다큐멘터리',\n",
       "    'directors': [{'peopleNm': '구수환'}],\n",
       "    'companys': [{'companyCd': '20204022', 'companyNm': '(주)중헌홀딩스'}]},\n",
       "   {'movieCd': '20207923',\n",
       "    'movieNm': '킬 모드',\n",
       "    'movieNmEn': 'KILL MODE',\n",
       "    'prdtYear': '2020',\n",
       "    'openDt': '20200625',\n",
       "    'typeNm': '장편',\n",
       "    'prdtStatNm': '개봉',\n",
       "    'nationAlt': '네덜란드',\n",
       "    'genreAlt': '액션',\n",
       "    'repNationNm': '네덜란드',\n",
       "    'repGenreNm': '액션',\n",
       "    'directors': [],\n",
       "    'companys': []},\n",
       "   {'movieCd': '20200083',\n",
       "    'movieNm': '해피 디 데이',\n",
       "    'movieNmEn': 'Dog Days',\n",
       "    'prdtYear': '2018',\n",
       "    'openDt': '20200701',\n",
       "    'typeNm': '장편',\n",
       "    'prdtStatNm': '개봉예정',\n",
       "    'nationAlt': '미국',\n",
       "    'genreAlt': '코미디,드라마,멜로/로맨스',\n",
       "    'repNationNm': '미국',\n",
       "    'repGenreNm': '코미디',\n",
       "    'directors': [{'peopleNm': '켄 마리노'}],\n",
       "    'companys': []},\n",
       "   {'movieCd': '20200145',\n",
       "    'movieNm': '할로윈: 살인마 잭',\n",
       "    'movieNmEn': 'The Legend of Halloween Jack',\n",
       "    'prdtYear': '2018',\n",
       "    'openDt': '20200630',\n",
       "    'typeNm': '장편',\n",
       "    'prdtStatNm': '개봉',\n",
       "    'nationAlt': '영국',\n",
       "    'genreAlt': '공포(호러)',\n",
       "    'repNationNm': '영국',\n",
       "    'repGenreNm': '공포(호러)',\n",
       "    'directors': [{'peopleNm': '앤드류 존스'}],\n",
       "    'companys': []},\n",
       "   {'movieCd': '20201644',\n",
       "    'movieNm': '자매들: 감금의 추억 무삭제판',\n",
       "    'movieNmEn': '',\n",
       "    'prdtYear': '2019',\n",
       "    'openDt': '20200630',\n",
       "    'typeNm': '장편',\n",
       "    'prdtStatNm': '개봉',\n",
       "    'nationAlt': '한국',\n",
       "    'genreAlt': '드라마',\n",
       "    'repNationNm': '한국',\n",
       "    'repGenreNm': '드라마',\n",
       "    'directors': [{'peopleNm': '한동호'}],\n",
       "    'companys': [{'companyCd': '20186981', 'companyNm': '주식회사 플릭스코'}]},\n",
       "   {'movieCd': '20201666',\n",
       "    'movieNm': '여선생의 금지된 방문교육',\n",
       "    'movieNmEn': '',\n",
       "    'prdtYear': '2020',\n",
       "    'openDt': '20200630',\n",
       "    'typeNm': '장편',\n",
       "    'prdtStatNm': '개봉',\n",
       "    'nationAlt': '일본',\n",
       "    'genreAlt': '드라마,성인물(에로)',\n",
       "    'repNationNm': '일본',\n",
       "    'repGenreNm': '드라마',\n",
       "    'directors': [],\n",
       "    'companys': []},\n",
       "   {'movieCd': '20201683',\n",
       "    'movieNm': '신천역 3번출구-확장판',\n",
       "    'movieNmEn': '',\n",
       "    'prdtYear': '2019',\n",
       "    'openDt': '20200630',\n",
       "    'typeNm': '장편',\n",
       "    'prdtStatNm': '개봉',\n",
       "    'nationAlt': '한국',\n",
       "    'genreAlt': '멜로/로맨스,드라마',\n",
       "    'repNationNm': '한국',\n",
       "    'repGenreNm': '멜로/로맨스',\n",
       "    'directors': [{'peopleNm': '노현진'}],\n",
       "    'companys': []}]}}"
      ]
     },
     "execution_count": 32,
     "metadata": {},
     "output_type": "execute_result"
    }
   ],
   "source": [
    "movieIdPage = urllib.request.urlopen(movieIdListURL)\n",
    "movieIdData = json.loads(movieIdPage.read().decode('utf8'),encoding=\"utf8\")\n",
    "movieIdData"
   ]
  },
  {
   "cell_type": "code",
   "execution_count": 37,
   "metadata": {},
   "outputs": [
    {
     "data": {
      "text/plain": [
       "{'movieCd': '20200304',\n",
       " 'movieNm': '테우리',\n",
       " 'movieNmEn': 'Teuri',\n",
       " 'prdtYear': '2019',\n",
       " 'openDt': '20200709',\n",
       " 'typeNm': '장편',\n",
       " 'prdtStatNm': '개봉예정',\n",
       " 'nationAlt': '한국',\n",
       " 'genreAlt': '드라마',\n",
       " 'repNationNm': '한국',\n",
       " 'repGenreNm': '드라마',\n",
       " 'directors': [{'peopleNm': '이난'}],\n",
       " 'companys': [{'companyCd': '20154448', 'companyNm': '(주)26컴퍼니'}]}"
      ]
     },
     "execution_count": 37,
     "metadata": {},
     "output_type": "execute_result"
    }
   ],
   "source": [
    "movieIdData[\"movieListResult\"][\"movieList\"][0]"
   ]
  },
  {
   "cell_type": "code",
   "execution_count": null,
   "metadata": {},
   "outputs": [],
   "source": [
    "#Q1) 처음 영화에 대한 movieCD값을 출력하세요.\n",
    "#02) 처음 영화의 영화 이름/영문이름을 출력하세요.\n",
    "#03) 처음 영화의 개봉일을 출력하세요.\n",
    "#04) 처음 영화에 대한 1번 감독에 대한 정보를 점근을 하고, 그 감독의 이름을 출력하세요"
   ]
  },
  {
   "cell_type": "code",
   "execution_count": 39,
   "metadata": {},
   "outputs": [
    {
     "data": {
      "text/plain": [
       "'20200304'"
      ]
     },
     "execution_count": 39,
     "metadata": {},
     "output_type": "execute_result"
    }
   ],
   "source": [
    "movieIdData[\"movieListResult\"][\"movieList\"][0][\"movieCd\"]"
   ]
  },
  {
   "cell_type": "code",
   "execution_count": 48,
   "metadata": {},
   "outputs": [
    {
     "data": {
      "text/plain": [
       "'테우리'"
      ]
     },
     "execution_count": 48,
     "metadata": {},
     "output_type": "execute_result"
    }
   ],
   "source": [
    "movieIdData[\"movieListResult\"][\"movieList\"][0][\"movieNm\"]"
   ]
  },
  {
   "cell_type": "code",
   "execution_count": 45,
   "metadata": {},
   "outputs": [
    {
     "data": {
      "text/plain": [
       "'Teuri'"
      ]
     },
     "execution_count": 45,
     "metadata": {},
     "output_type": "execute_result"
    }
   ],
   "source": [
    "movieIdData[\"movieListResult\"][\"movieList\"][0][\"movieNmEn\"]"
   ]
  },
  {
   "cell_type": "code",
   "execution_count": 46,
   "metadata": {},
   "outputs": [
    {
     "data": {
      "text/plain": [
       "'20200709'"
      ]
     },
     "execution_count": 46,
     "metadata": {},
     "output_type": "execute_result"
    }
   ],
   "source": [
    "movieIdData[\"movieListResult\"][\"movieList\"][0][\"openDt\"]"
   ]
  },
  {
   "cell_type": "code",
   "execution_count": 58,
   "metadata": {},
   "outputs": [
    {
     "data": {
      "text/plain": [
       "'이난'"
      ]
     },
     "execution_count": 58,
     "metadata": {},
     "output_type": "execute_result"
    }
   ],
   "source": [
    "movieIdData[\"movieListResult\"][\"movieList\"][0][\"directors\"][0][\"peopleNm\"]"
   ]
  },
  {
   "cell_type": "code",
   "execution_count": null,
   "metadata": {},
   "outputs": [],
   "source": []
  },
  {
   "cell_type": "code",
   "execution_count": 75,
   "metadata": {},
   "outputs": [],
   "source": [
    "#모든 정보를 담을 DF\n",
    "movieIDDF = pd.DataFrame()\n",
    "\n",
    "#1개 영화 정보들에 대해서 처리할 DF\n",
    "movieIDDF_temp = pd.DataFrame()\n",
    "movieIDDF_temp = movieIDDF_temp.append(\n",
    "    {\"movieCd\":\"\",\n",
    "     \"movieNm\" : \"\",\n",
    "     \"movieNmEn\" : \"\",\n",
    "     \"openDt\" : \"\",\n",
    "     \"directorpeopleNm\" : \"\"},\n",
    "    ignore_index = True)\n",
    "\n",
    "temp_movcd_idx = movieIDDF_temp.columns.get_loc(\"movieCd\")\n",
    "temp_movNm_idx = movieIDDF_temp.columns.get_loc(\"movieNm\")\n",
    "temp_movNmE_idx = movieIDDF_temp.columns.get_loc(\"movieNmEn\")\n",
    "temp_movdt_idx = movieIDDF_temp.columns.get_loc(\"openDt\")\n",
    "temp_movdir_idx = movieIDDF_temp.columns.get_loc(\"directorpeopleNm\")\n",
    "\n",
    "num = len(movieIdData[\"movieListResult\"][\"movieList\"])\n",
    "for i in range(0, num):\n",
    "    #영화 코드\n",
    "    movieIDDF_temp.iat[0, temp_movcd_idx]=movieIdData[\"movieListResult\"][\"movieList\"][i][\"movieCd\"]\n",
    "    movieIDDF_temp.iat[0, temp_movNm_idx]=movieIdData[\"movieListResult\"][\"movieList\"][i][\"movieNm\"]\n",
    "    movieIDDF_temp.iat[0, temp_movNmE_idx]=movieIdData[\"movieListResult\"][\"movieList\"][i][\"movieNmEn\"]\n",
    "    movieIDDF_temp.iat[0, temp_movdt_idx]=movieIdData[\"movieListResult\"][\"movieList\"][i][\"openDt\"]\n",
    "    \n",
    "    \n",
    "    #print(str(i)+\"_번째 영화 코드: \", movieIdData[\"movieListResult\"][\"movieList\"][i][\"directors\"]=[])\n",
    "    #감독에 대한 정보가 뭐라도 들어있는 경우....\n",
    "    if movieIdData[\"movieListResult\"][\"movieList\"][i][\"directors\"] !=[]:\n",
    "        #print(str(i) + \"감독이름:\", movieIdData[\",movieLis0tResult\"])\n",
    "        movieIDDF_temp.iat[0,temp_movdir_idx]=movieIdData[\"movieListResult\"][\"movieList\"][i][\"directors\"][0][\"peopleNm\"]\n",
    "    else:\n",
    "            pass\n",
    "        \n",
    "    \n",
    "\n",
    "    \n",
    "    # 1. movieIDDF_temp에 i번째 영화의 정보들을 담기....(코드, 이름, 영문, 개봉일, 감독)\n",
    "    # 2. movieIDDF_temp에 있는 i번째 영화에 대한 정보를 movieIDDF에 추가\n",
    "    # ---------> append\n",
    "    movieIDDF=movieIDDF.append(movieIDDF_temp, ignore_index=True)\n",
    "    # 3. movieIDDF_temp에 담겨져 있는 정보들을 초기화하는 부분\n",
    "    movieIDDF_temp.iat[0, temp_movcd_idx] = \"\"\n",
    "    movieIDDF_temp.iat[0, temp_movNm_idx] = \"\"\n",
    "    movieIDDF_temp.iat[0, temp_movNmE_idx] = \"\"\n",
    "    movieIDDF_temp.iat[0, temp_movdt_idx] = \"\"\n",
    "    movieIDDF_temp.iat[0, temp_movdir_idx] = \"\""
   ]
  },
  {
   "cell_type": "code",
   "execution_count": 76,
   "metadata": {},
   "outputs": [
    {
     "data": {
      "text/plain": [
       "1"
      ]
     },
     "execution_count": 76,
     "metadata": {},
     "output_type": "execute_result"
    }
   ],
   "source": [
    "movieIDDF_temp.columns.get_loc(\"movieCd\")"
   ]
  },
  {
   "cell_type": "code",
   "execution_count": null,
   "metadata": {},
   "outputs": [],
   "source": []
  },
  {
   "cell_type": "code",
   "execution_count": 77,
   "metadata": {},
   "outputs": [],
   "source": [
    "movieIdData[\"movieListResult\"][\"movieList\"][5][\"directors\"]=[]"
   ]
  },
  {
   "cell_type": "code",
   "execution_count": 78,
   "metadata": {},
   "outputs": [
    {
     "data": {
      "text/plain": [
       "'19720513'"
      ]
     },
     "execution_count": 78,
     "metadata": {},
     "output_type": "execute_result"
    }
   ],
   "source": [
    "movieIDDF[\"openDt\"][0]"
   ]
  },
  {
   "cell_type": "code",
   "execution_count": 79,
   "metadata": {},
   "outputs": [
    {
     "ename": "SyntaxError",
     "evalue": "invalid syntax (<ipython-input-79-836ee51ac164>, line 1)",
     "output_type": "error",
     "traceback": [
      "\u001b[1;36m  File \u001b[1;32m\"<ipython-input-79-836ee51ac164>\"\u001b[1;36m, line \u001b[1;32m1\u001b[0m\n\u001b[1;33m    movieIDDF[\"openDt\"][0][:4]--->x[:4]\u001b[0m\n\u001b[1;37m                                 ^\u001b[0m\n\u001b[1;31mSyntaxError\u001b[0m\u001b[1;31m:\u001b[0m invalid syntax\n"
     ]
    }
   ],
   "source": [
    "movieIDDF[\"openDt\"][0][:4]--->x[:4]"
   ]
  },
  {
   "cell_type": "code",
   "execution_count": null,
   "metadata": {},
   "outputs": [],
   "source": [
    "movieIDDF[\"openDt\"][0][4:6]--->x[4:6]"
   ]
  },
  {
   "cell_type": "code",
   "execution_count": null,
   "metadata": {},
   "outputs": [],
   "source": [
    "movieIDDF[\"openDt\"][0][6:]--->x[6:]"
   ]
  },
  {
   "cell_type": "code",
   "execution_count": null,
   "metadata": {},
   "outputs": [],
   "source": []
  },
  {
   "cell_type": "code",
   "execution_count": 87,
   "metadata": {},
   "outputs": [
    {
     "data": {
      "text/html": [
       "<div>\n",
       "<style scoped>\n",
       "    .dataframe tbody tr th:only-of-type {\n",
       "        vertical-align: middle;\n",
       "    }\n",
       "\n",
       "    .dataframe tbody tr th {\n",
       "        vertical-align: top;\n",
       "    }\n",
       "\n",
       "    .dataframe thead th {\n",
       "        text-align: right;\n",
       "    }\n",
       "</style>\n",
       "<table border=\"1\" class=\"dataframe\">\n",
       "  <thead>\n",
       "    <tr style=\"text-align: right;\">\n",
       "      <th></th>\n",
       "      <th>directorpeopleNm</th>\n",
       "      <th>movieCd</th>\n",
       "      <th>movieNm</th>\n",
       "      <th>movieNmEn</th>\n",
       "      <th>openDt</th>\n",
       "      <th>year</th>\n",
       "      <th>month</th>\n",
       "      <th>day</th>\n",
       "    </tr>\n",
       "  </thead>\n",
       "  <tbody>\n",
       "    <tr>\n",
       "      <th>3</th>\n",
       "      <td></td>\n",
       "      <td>20201922</td>\n",
       "      <td>알로하</td>\n",
       "      <td></td>\n",
       "      <td></td>\n",
       "      <td></td>\n",
       "      <td></td>\n",
       "      <td></td>\n",
       "    </tr>\n",
       "    <tr>\n",
       "      <th>4</th>\n",
       "      <td></td>\n",
       "      <td>20201941</td>\n",
       "      <td>너의 대학은 : 동아방송예술대학교 편</td>\n",
       "      <td></td>\n",
       "      <td></td>\n",
       "      <td></td>\n",
       "      <td></td>\n",
       "      <td></td>\n",
       "    </tr>\n",
       "    <tr>\n",
       "      <th>5</th>\n",
       "      <td>스티븐 바우터루드</td>\n",
       "      <td>20199302</td>\n",
       "      <td>테스와 보낸 여름</td>\n",
       "      <td>My Extraordinary Summer with Tess</td>\n",
       "      <td></td>\n",
       "      <td></td>\n",
       "      <td></td>\n",
       "      <td></td>\n",
       "    </tr>\n",
       "    <tr>\n",
       "      <th>6</th>\n",
       "      <td>장 피에르 다르덴</td>\n",
       "      <td>20201803</td>\n",
       "      <td>소년 아메드</td>\n",
       "      <td>Young Ahmed</td>\n",
       "      <td></td>\n",
       "      <td></td>\n",
       "      <td></td>\n",
       "      <td></td>\n",
       "    </tr>\n",
       "    <tr>\n",
       "      <th>0</th>\n",
       "      <td></td>\n",
       "      <td>30209992</td>\n",
       "      <td>경복궁1234</td>\n",
       "      <td>The women of Kyeongbokgung</td>\n",
       "      <td>19720513</td>\n",
       "      <td>1972</td>\n",
       "      <td>05</td>\n",
       "      <td>13</td>\n",
       "    </tr>\n",
       "    <tr>\n",
       "      <th>1</th>\n",
       "      <td></td>\n",
       "      <td>30209993</td>\n",
       "      <td>경복궁12345</td>\n",
       "      <td>The women of Kyeongbokgung</td>\n",
       "      <td>19720513</td>\n",
       "      <td>1972</td>\n",
       "      <td>05</td>\n",
       "      <td>13</td>\n",
       "    </tr>\n",
       "    <tr>\n",
       "      <th>7</th>\n",
       "      <td></td>\n",
       "      <td>20209983</td>\n",
       "      <td>마더체인지</td>\n",
       "      <td>mother change</td>\n",
       "      <td>20200609</td>\n",
       "      <td>2020</td>\n",
       "      <td>06</td>\n",
       "      <td>09</td>\n",
       "    </tr>\n",
       "    <tr>\n",
       "      <th>8</th>\n",
       "      <td>이영인</td>\n",
       "      <td>20200003</td>\n",
       "      <td>내연녀</td>\n",
       "      <td>secret mistress</td>\n",
       "      <td>20200609</td>\n",
       "      <td>2020</td>\n",
       "      <td>06</td>\n",
       "      <td>09</td>\n",
       "    </tr>\n",
       "    <tr>\n",
       "      <th>9</th>\n",
       "      <td>최정자</td>\n",
       "      <td>20200143</td>\n",
       "      <td>시누이의 맛</td>\n",
       "      <td></td>\n",
       "      <td>20200612</td>\n",
       "      <td>2020</td>\n",
       "      <td>06</td>\n",
       "      <td>12</td>\n",
       "    </tr>\n",
       "    <tr>\n",
       "      <th>2</th>\n",
       "      <td>연상호</td>\n",
       "      <td>20193450</td>\n",
       "      <td>반도</td>\n",
       "      <td>Peninsula</td>\n",
       "      <td>20200715</td>\n",
       "      <td>2020</td>\n",
       "      <td>07</td>\n",
       "      <td>15</td>\n",
       "    </tr>\n",
       "  </tbody>\n",
       "</table>\n",
       "</div>"
      ],
      "text/plain": [
       "  directorpeopleNm   movieCd               movieNm  \\\n",
       "3                   20201922                   알로하   \n",
       "4                   20201941  너의 대학은 : 동아방송예술대학교 편   \n",
       "5        스티븐 바우터루드  20199302             테스와 보낸 여름   \n",
       "6        장 피에르 다르덴  20201803                소년 아메드   \n",
       "0                   30209992               경복궁1234   \n",
       "1                   30209993              경복궁12345   \n",
       "7                   20209983                 마더체인지   \n",
       "8              이영인  20200003                   내연녀   \n",
       "9              최정자  20200143                시누이의 맛   \n",
       "2              연상호  20193450                    반도   \n",
       "\n",
       "                           movieNmEn    openDt  year month day  \n",
       "3                                                               \n",
       "4                                                               \n",
       "5  My Extraordinary Summer with Tess                            \n",
       "6                        Young Ahmed                            \n",
       "0         The women of Kyeongbokgung  19720513  1972    05  13  \n",
       "1         The women of Kyeongbokgung  19720513  1972    05  13  \n",
       "7                      mother change  20200609  2020    06  09  \n",
       "8                   secret mistress   20200609  2020    06  09  \n",
       "9                                     20200612  2020    06  12  \n",
       "2                          Peninsula  20200715  2020    07  15  "
      ]
     },
     "execution_count": 87,
     "metadata": {},
     "output_type": "execute_result"
    }
   ],
   "source": [
    "movieIDDF[\"year\"]=movieIDDF[\"openDt\"].apply(lambda x: str(x)[:4]) \n",
    "movieIDDF[\"month\"]=movieIDDF[\"openDt\"].apply(lambda x: str(x)[4:6])\n",
    "movieIDDF[\"day\"]=movieIDDF[\"openDt\"].apply(lambda x: str(x)[6:])\n",
    "movieIDDF.head(10)"
   ]
  },
  {
   "cell_type": "code",
   "execution_count": 88,
   "metadata": {},
   "outputs": [
    {
     "data": {
      "text/html": [
       "<div>\n",
       "<style scoped>\n",
       "    .dataframe tbody tr th:only-of-type {\n",
       "        vertical-align: middle;\n",
       "    }\n",
       "\n",
       "    .dataframe tbody tr th {\n",
       "        vertical-align: top;\n",
       "    }\n",
       "\n",
       "    .dataframe thead th {\n",
       "        text-align: right;\n",
       "    }\n",
       "</style>\n",
       "<table border=\"1\" class=\"dataframe\">\n",
       "  <thead>\n",
       "    <tr style=\"text-align: right;\">\n",
       "      <th></th>\n",
       "      <th>directorpeopleNm</th>\n",
       "      <th>movieCd</th>\n",
       "      <th>movieNm</th>\n",
       "      <th>movieNmEn</th>\n",
       "      <th>openDt</th>\n",
       "      <th>year</th>\n",
       "      <th>month</th>\n",
       "      <th>day</th>\n",
       "    </tr>\n",
       "  </thead>\n",
       "  <tbody>\n",
       "    <tr>\n",
       "      <th>3</th>\n",
       "      <td></td>\n",
       "      <td>20201922</td>\n",
       "      <td>알로하</td>\n",
       "      <td></td>\n",
       "      <td></td>\n",
       "      <td></td>\n",
       "      <td></td>\n",
       "      <td></td>\n",
       "    </tr>\n",
       "    <tr>\n",
       "      <th>4</th>\n",
       "      <td></td>\n",
       "      <td>20201941</td>\n",
       "      <td>너의 대학은 : 동아방송예술대학교 편</td>\n",
       "      <td></td>\n",
       "      <td></td>\n",
       "      <td></td>\n",
       "      <td></td>\n",
       "      <td></td>\n",
       "    </tr>\n",
       "    <tr>\n",
       "      <th>5</th>\n",
       "      <td>스티븐 바우터루드</td>\n",
       "      <td>20199302</td>\n",
       "      <td>테스와 보낸 여름</td>\n",
       "      <td>My Extraordinary Summer with Tess</td>\n",
       "      <td></td>\n",
       "      <td></td>\n",
       "      <td></td>\n",
       "      <td></td>\n",
       "    </tr>\n",
       "    <tr>\n",
       "      <th>6</th>\n",
       "      <td>장 피에르 다르덴</td>\n",
       "      <td>20201803</td>\n",
       "      <td>소년 아메드</td>\n",
       "      <td>Young Ahmed</td>\n",
       "      <td></td>\n",
       "      <td></td>\n",
       "      <td></td>\n",
       "      <td></td>\n",
       "    </tr>\n",
       "    <tr>\n",
       "      <th>0</th>\n",
       "      <td></td>\n",
       "      <td>30209992</td>\n",
       "      <td>경복궁1234</td>\n",
       "      <td>The women of Kyeongbokgung</td>\n",
       "      <td>19720513</td>\n",
       "      <td>1972</td>\n",
       "      <td>05</td>\n",
       "      <td>13</td>\n",
       "    </tr>\n",
       "    <tr>\n",
       "      <th>1</th>\n",
       "      <td></td>\n",
       "      <td>30209993</td>\n",
       "      <td>경복궁12345</td>\n",
       "      <td>The women of Kyeongbokgung</td>\n",
       "      <td>19720513</td>\n",
       "      <td>1972</td>\n",
       "      <td>05</td>\n",
       "      <td>13</td>\n",
       "    </tr>\n",
       "    <tr>\n",
       "      <th>7</th>\n",
       "      <td></td>\n",
       "      <td>20209983</td>\n",
       "      <td>마더체인지</td>\n",
       "      <td>mother change</td>\n",
       "      <td>20200609</td>\n",
       "      <td>2020</td>\n",
       "      <td>06</td>\n",
       "      <td>09</td>\n",
       "    </tr>\n",
       "    <tr>\n",
       "      <th>8</th>\n",
       "      <td>이영인</td>\n",
       "      <td>20200003</td>\n",
       "      <td>내연녀</td>\n",
       "      <td>secret mistress</td>\n",
       "      <td>20200609</td>\n",
       "      <td>2020</td>\n",
       "      <td>06</td>\n",
       "      <td>09</td>\n",
       "    </tr>\n",
       "    <tr>\n",
       "      <th>9</th>\n",
       "      <td>최정자</td>\n",
       "      <td>20200143</td>\n",
       "      <td>시누이의 맛</td>\n",
       "      <td></td>\n",
       "      <td>20200612</td>\n",
       "      <td>2020</td>\n",
       "      <td>06</td>\n",
       "      <td>12</td>\n",
       "    </tr>\n",
       "    <tr>\n",
       "      <th>2</th>\n",
       "      <td>연상호</td>\n",
       "      <td>20193450</td>\n",
       "      <td>반도</td>\n",
       "      <td>Peninsula</td>\n",
       "      <td>20200715</td>\n",
       "      <td>2020</td>\n",
       "      <td>07</td>\n",
       "      <td>15</td>\n",
       "    </tr>\n",
       "  </tbody>\n",
       "</table>\n",
       "</div>"
      ],
      "text/plain": [
       "  directorpeopleNm   movieCd               movieNm  \\\n",
       "3                   20201922                   알로하   \n",
       "4                   20201941  너의 대학은 : 동아방송예술대학교 편   \n",
       "5        스티븐 바우터루드  20199302             테스와 보낸 여름   \n",
       "6        장 피에르 다르덴  20201803                소년 아메드   \n",
       "0                   30209992               경복궁1234   \n",
       "1                   30209993              경복궁12345   \n",
       "7                   20209983                 마더체인지   \n",
       "8              이영인  20200003                   내연녀   \n",
       "9              최정자  20200143                시누이의 맛   \n",
       "2              연상호  20193450                    반도   \n",
       "\n",
       "                           movieNmEn    openDt  year month day  \n",
       "3                                                               \n",
       "4                                                               \n",
       "5  My Extraordinary Summer with Tess                            \n",
       "6                        Young Ahmed                            \n",
       "0         The women of Kyeongbokgung  19720513  1972    05  13  \n",
       "1         The women of Kyeongbokgung  19720513  1972    05  13  \n",
       "7                      mother change  20200609  2020    06  09  \n",
       "8                   secret mistress   20200609  2020    06  09  \n",
       "9                                     20200612  2020    06  12  \n",
       "2                          Peninsula  20200715  2020    07  15  "
      ]
     },
     "execution_count": 88,
     "metadata": {},
     "output_type": "execute_result"
    }
   ],
   "source": [
    "movieIDDF = movieIDDF.sort_values(by=\"openDt\")\n",
    "movieIDDF.head(10)"
   ]
  },
  {
   "cell_type": "code",
   "execution_count": 89,
   "metadata": {},
   "outputs": [
    {
     "data": {
      "text/html": [
       "<div>\n",
       "<style scoped>\n",
       "    .dataframe tbody tr th:only-of-type {\n",
       "        vertical-align: middle;\n",
       "    }\n",
       "\n",
       "    .dataframe tbody tr th {\n",
       "        vertical-align: top;\n",
       "    }\n",
       "\n",
       "    .dataframe thead th {\n",
       "        text-align: right;\n",
       "    }\n",
       "</style>\n",
       "<table border=\"1\" class=\"dataframe\">\n",
       "  <thead>\n",
       "    <tr style=\"text-align: right;\">\n",
       "      <th></th>\n",
       "      <th>directorpeopleNm</th>\n",
       "      <th>movieCd</th>\n",
       "      <th>movieNm</th>\n",
       "      <th>movieNmEn</th>\n",
       "      <th>openDt</th>\n",
       "      <th>year</th>\n",
       "      <th>month</th>\n",
       "      <th>day</th>\n",
       "    </tr>\n",
       "  </thead>\n",
       "  <tbody>\n",
       "    <tr>\n",
       "      <th>3</th>\n",
       "      <td></td>\n",
       "      <td>20201922</td>\n",
       "      <td>알로하</td>\n",
       "      <td></td>\n",
       "      <td></td>\n",
       "      <td></td>\n",
       "      <td></td>\n",
       "      <td></td>\n",
       "    </tr>\n",
       "    <tr>\n",
       "      <th>4</th>\n",
       "      <td></td>\n",
       "      <td>20201941</td>\n",
       "      <td>너의 대학은 : 동아방송예술대학교 편</td>\n",
       "      <td></td>\n",
       "      <td></td>\n",
       "      <td></td>\n",
       "      <td></td>\n",
       "      <td></td>\n",
       "    </tr>\n",
       "    <tr>\n",
       "      <th>5</th>\n",
       "      <td>스티븐 바우터루드</td>\n",
       "      <td>20199302</td>\n",
       "      <td>테스와 보낸 여름</td>\n",
       "      <td>My Extraordinary Summer with Tess</td>\n",
       "      <td></td>\n",
       "      <td></td>\n",
       "      <td></td>\n",
       "      <td></td>\n",
       "    </tr>\n",
       "    <tr>\n",
       "      <th>6</th>\n",
       "      <td>장 피에르 다르덴</td>\n",
       "      <td>20201803</td>\n",
       "      <td>소년 아메드</td>\n",
       "      <td>Young Ahmed</td>\n",
       "      <td></td>\n",
       "      <td></td>\n",
       "      <td></td>\n",
       "      <td></td>\n",
       "    </tr>\n",
       "    <tr>\n",
       "      <th>0</th>\n",
       "      <td></td>\n",
       "      <td>30209992</td>\n",
       "      <td>경복궁1234</td>\n",
       "      <td>The women of Kyeongbokgung</td>\n",
       "      <td>19720513</td>\n",
       "      <td>1972</td>\n",
       "      <td>05</td>\n",
       "      <td>13</td>\n",
       "    </tr>\n",
       "  </tbody>\n",
       "</table>\n",
       "</div>"
      ],
      "text/plain": [
       "  directorpeopleNm   movieCd               movieNm  \\\n",
       "3                   20201922                   알로하   \n",
       "4                   20201941  너의 대학은 : 동아방송예술대학교 편   \n",
       "5        스티븐 바우터루드  20199302             테스와 보낸 여름   \n",
       "6        장 피에르 다르덴  20201803                소년 아메드   \n",
       "0                   30209992               경복궁1234   \n",
       "\n",
       "                           movieNmEn    openDt  year month day  \n",
       "3                                                               \n",
       "4                                                               \n",
       "5  My Extraordinary Summer with Tess                            \n",
       "6                        Young Ahmed                            \n",
       "0         The women of Kyeongbokgung  19720513  1972    05  13  "
      ]
     },
     "execution_count": 89,
     "metadata": {},
     "output_type": "execute_result"
    }
   ],
   "source": [
    "movieIDDF.set_index(\"movieCd\")\n",
    "movieIDDF.head()"
   ]
  },
  {
   "cell_type": "code",
   "execution_count": 93,
   "metadata": {},
   "outputs": [
    {
     "data": {
      "text/html": [
       "<div>\n",
       "<style scoped>\n",
       "    .dataframe tbody tr th:only-of-type {\n",
       "        vertical-align: middle;\n",
       "    }\n",
       "\n",
       "    .dataframe tbody tr th {\n",
       "        vertical-align: top;\n",
       "    }\n",
       "\n",
       "    .dataframe thead th {\n",
       "        text-align: right;\n",
       "    }\n",
       "</style>\n",
       "<table border=\"1\" class=\"dataframe\">\n",
       "  <thead>\n",
       "    <tr style=\"text-align: right;\">\n",
       "      <th></th>\n",
       "      <th>openDt</th>\n",
       "      <th>year</th>\n",
       "      <th>month</th>\n",
       "      <th>day</th>\n",
       "      <th>movieNm</th>\n",
       "      <th>movieNmEn</th>\n",
       "      <th>directorpeopleNm</th>\n",
       "      <th>movieCd</th>\n",
       "    </tr>\n",
       "  </thead>\n",
       "  <tbody>\n",
       "    <tr>\n",
       "      <th>3</th>\n",
       "      <td></td>\n",
       "      <td></td>\n",
       "      <td></td>\n",
       "      <td></td>\n",
       "      <td>알로하</td>\n",
       "      <td></td>\n",
       "      <td></td>\n",
       "      <td>20201922</td>\n",
       "    </tr>\n",
       "    <tr>\n",
       "      <th>4</th>\n",
       "      <td></td>\n",
       "      <td></td>\n",
       "      <td></td>\n",
       "      <td></td>\n",
       "      <td>너의 대학은 : 동아방송예술대학교 편</td>\n",
       "      <td></td>\n",
       "      <td></td>\n",
       "      <td>20201941</td>\n",
       "    </tr>\n",
       "    <tr>\n",
       "      <th>5</th>\n",
       "      <td></td>\n",
       "      <td></td>\n",
       "      <td></td>\n",
       "      <td></td>\n",
       "      <td>테스와 보낸 여름</td>\n",
       "      <td>My Extraordinary Summer with Tess</td>\n",
       "      <td>스티븐 바우터루드</td>\n",
       "      <td>20199302</td>\n",
       "    </tr>\n",
       "    <tr>\n",
       "      <th>6</th>\n",
       "      <td></td>\n",
       "      <td></td>\n",
       "      <td></td>\n",
       "      <td></td>\n",
       "      <td>소년 아메드</td>\n",
       "      <td>Young Ahmed</td>\n",
       "      <td>장 피에르 다르덴</td>\n",
       "      <td>20201803</td>\n",
       "    </tr>\n",
       "    <tr>\n",
       "      <th>0</th>\n",
       "      <td>19720513</td>\n",
       "      <td>1972</td>\n",
       "      <td>05</td>\n",
       "      <td>13</td>\n",
       "      <td>경복궁1234</td>\n",
       "      <td>The women of Kyeongbokgung</td>\n",
       "      <td></td>\n",
       "      <td>30209992</td>\n",
       "    </tr>\n",
       "    <tr>\n",
       "      <th>1</th>\n",
       "      <td>19720513</td>\n",
       "      <td>1972</td>\n",
       "      <td>05</td>\n",
       "      <td>13</td>\n",
       "      <td>경복궁12345</td>\n",
       "      <td>The women of Kyeongbokgung</td>\n",
       "      <td></td>\n",
       "      <td>30209993</td>\n",
       "    </tr>\n",
       "    <tr>\n",
       "      <th>7</th>\n",
       "      <td>20200609</td>\n",
       "      <td>2020</td>\n",
       "      <td>06</td>\n",
       "      <td>09</td>\n",
       "      <td>마더체인지</td>\n",
       "      <td>mother change</td>\n",
       "      <td></td>\n",
       "      <td>20209983</td>\n",
       "    </tr>\n",
       "    <tr>\n",
       "      <th>8</th>\n",
       "      <td>20200609</td>\n",
       "      <td>2020</td>\n",
       "      <td>06</td>\n",
       "      <td>09</td>\n",
       "      <td>내연녀</td>\n",
       "      <td>secret mistress</td>\n",
       "      <td>이영인</td>\n",
       "      <td>20200003</td>\n",
       "    </tr>\n",
       "    <tr>\n",
       "      <th>9</th>\n",
       "      <td>20200612</td>\n",
       "      <td>2020</td>\n",
       "      <td>06</td>\n",
       "      <td>12</td>\n",
       "      <td>시누이의 맛</td>\n",
       "      <td></td>\n",
       "      <td>최정자</td>\n",
       "      <td>20200143</td>\n",
       "    </tr>\n",
       "    <tr>\n",
       "      <th>2</th>\n",
       "      <td>20200715</td>\n",
       "      <td>2020</td>\n",
       "      <td>07</td>\n",
       "      <td>15</td>\n",
       "      <td>반도</td>\n",
       "      <td>Peninsula</td>\n",
       "      <td>연상호</td>\n",
       "      <td>20193450</td>\n",
       "    </tr>\n",
       "  </tbody>\n",
       "</table>\n",
       "</div>"
      ],
      "text/plain": [
       "     openDt  year month day               movieNm  \\\n",
       "3                                             알로하   \n",
       "4                            너의 대학은 : 동아방송예술대학교 편   \n",
       "5                                       테스와 보낸 여름   \n",
       "6                                          소년 아메드   \n",
       "0  19720513  1972    05  13               경복궁1234   \n",
       "1  19720513  1972    05  13              경복궁12345   \n",
       "7  20200609  2020    06  09                 마더체인지   \n",
       "8  20200609  2020    06  09                   내연녀   \n",
       "9  20200612  2020    06  12                시누이의 맛   \n",
       "2  20200715  2020    07  15                    반도   \n",
       "\n",
       "                           movieNmEn directorpeopleNm   movieCd  \n",
       "3                                                      20201922  \n",
       "4                                                      20201941  \n",
       "5  My Extraordinary Summer with Tess        스티븐 바우터루드  20199302  \n",
       "6                        Young Ahmed        장 피에르 다르덴  20201803  \n",
       "0         The women of Kyeongbokgung                   30209992  \n",
       "1         The women of Kyeongbokgung                   30209993  \n",
       "7                      mother change                   20209983  \n",
       "8                   secret mistress               이영인  20200003  \n",
       "9                                                 최정자  20200143  \n",
       "2                          Peninsula              연상호  20193450  "
      ]
     },
     "execution_count": 93,
     "metadata": {},
     "output_type": "execute_result"
    }
   ],
   "source": [
    "col_list = [\"openDt\", \"year\", \"month\", \"day\", \"movieNm\", \"movieNmEn\",\"directorpeopleNm\",\"movieCd\"]\n",
    "movieIDDF = movieIDDF.loc[:, col_list]\n",
    "movieIDDF.head(10)"
   ]
  },
  {
   "cell_type": "code",
   "execution_count": 95,
   "metadata": {},
   "outputs": [],
   "source": [
    "movieIDDF.to_csv(\"kobis20200630.csv\")"
   ]
  },
  {
   "cell_type": "code",
   "execution_count": null,
   "metadata": {},
   "outputs": [],
   "source": []
  },
  {
   "cell_type": "code",
   "execution_count": null,
   "metadata": {},
   "outputs": [],
   "source": []
  },
  {
   "cell_type": "code",
   "execution_count": null,
   "metadata": {},
   "outputs": [],
   "source": []
  },
  {
   "cell_type": "code",
   "execution_count": null,
   "metadata": {},
   "outputs": [],
   "source": []
  },
  {
   "cell_type": "code",
   "execution_count": null,
   "metadata": {},
   "outputs": [],
   "source": []
  },
  {
   "cell_type": "code",
   "execution_count": null,
   "metadata": {},
   "outputs": [],
   "source": []
  }
 ],
 "metadata": {
  "kernelspec": {
   "display_name": "Python 3",
   "language": "python",
   "name": "python3"
  },
  "language_info": {
   "codemirror_mode": {
    "name": "ipython",
    "version": 3
   },
   "file_extension": ".py",
   "mimetype": "text/x-python",
   "name": "python",
   "nbconvert_exporter": "python",
   "pygments_lexer": "ipython3",
   "version": "3.7.6"
  }
 },
 "nbformat": 4,
 "nbformat_minor": 4
}
